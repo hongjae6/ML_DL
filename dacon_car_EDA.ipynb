{
  "nbformat": 4,
  "nbformat_minor": 0,
  "metadata": {
    "colab": {
      "name": "dacon_car_EDA.ipynb",
      "provenance": [],
      "mount_file_id": "1WXx0cyV8zGQacKOLHQyH4rOCjCFoNWSR",
      "authorship_tag": "ABX9TyNAPYLrh3chNLGIPbuVWN3z",
      "include_colab_link": true
    },
    "kernelspec": {
      "name": "python3",
      "display_name": "Python 3"
    },
    "language_info": {
      "name": "python"
    }
  },
  "cells": [
    {
      "cell_type": "markdown",
      "metadata": {
        "id": "view-in-github",
        "colab_type": "text"
      },
      "source": [
        "<a href=\"https://colab.research.google.com/github/hongjae6/ML_DL/blob/main/dacon_car_EDA.ipynb\" target=\"_parent\"><img src=\"https://colab.research.google.com/assets/colab-badge.svg\" alt=\"Open In Colab\"/></a>"
      ]
    },
    {
      "cell_type": "markdown",
      "source": [
        "# Baseline EDA에서 한발자국만 더 들어간 데이터 살펴보고 가공해보기\n"
      ],
      "metadata": {
        "id": "Bt6K9uZevhs1"
      }
    },
    {
      "cell_type": "code",
      "execution_count": 1,
      "metadata": {
        "id": "5VvSlxXI8LQf"
      },
      "outputs": [],
      "source": [
        "!cp /content/drive/MyDrive/DACON/user_data/sample_submission.csv /content/drive/MyDrive/DACON/user_data/test.csv /content/drive/MyDrive/DACON/user_data/train.csv /content"
      ]
    },
    {
      "cell_type": "code",
      "source": [
        "import pandas as pd"
      ],
      "metadata": {
        "id": "-SQdkjta82cl"
      },
      "execution_count": 2,
      "outputs": []
    },
    {
      "cell_type": "code",
      "source": [
        "train = pd.read_csv('train.csv')\n",
        "test = pd.read_csv('test.csv')\n",
        "sample_submission = pd.read_csv('sample_submission.csv')"
      ],
      "metadata": {
        "id": "PvQmDf5O87v7"
      },
      "execution_count": 3,
      "outputs": []
    },
    {
      "cell_type": "code",
      "source": [
        "train.head()"
      ],
      "metadata": {
        "colab": {
          "base_uri": "https://localhost:8080/",
          "height": 206
        },
        "id": "ooUpDALD9DR3",
        "outputId": "b061f3b9-8f66-4a1b-a8cd-9661a60fc30f"
      },
      "execution_count": 4,
      "outputs": [
        {
          "output_type": "execute_result",
          "data": {
            "text/plain": [
              "   id                          title  odometer location    isimported  \\\n",
              "0   0                   Toyota RAV 4     18277   Lagos   Foreign Used   \n",
              "1   1            Toyota Land Cruiser        10    Lagos          New    \n",
              "2   2  Land Rover Range Rover Evoque     83091    Lagos  Foreign Used   \n",
              "3   3                   Lexus ES 350     91524    Lagos  Foreign Used   \n",
              "4   4                   Toyota Venza     94177    Lagos  Foreign Used   \n",
              "\n",
              "           engine transmission    fuel  paint  year    target  \n",
              "0  4-cylinder(I4)    automatic  petrol    Red  2016  13665000  \n",
              "1  4-cylinder(I4)    automatic  petrol  Black  2019  33015000  \n",
              "2  6-cylinder(V6)    automatic  petrol    Red  2012   9915000  \n",
              "3  4-cylinder(I4)    automatic  petrol   Gray  2007   3815000  \n",
              "4  6-cylinder(V6)    automatic  petrol    Red  2010   7385000  "
            ],
            "text/html": [
              "\n",
              "  <div id=\"df-bacae904-d7c8-4966-8f20-7a1eea22e9f6\">\n",
              "    <div class=\"colab-df-container\">\n",
              "      <div>\n",
              "<style scoped>\n",
              "    .dataframe tbody tr th:only-of-type {\n",
              "        vertical-align: middle;\n",
              "    }\n",
              "\n",
              "    .dataframe tbody tr th {\n",
              "        vertical-align: top;\n",
              "    }\n",
              "\n",
              "    .dataframe thead th {\n",
              "        text-align: right;\n",
              "    }\n",
              "</style>\n",
              "<table border=\"1\" class=\"dataframe\">\n",
              "  <thead>\n",
              "    <tr style=\"text-align: right;\">\n",
              "      <th></th>\n",
              "      <th>id</th>\n",
              "      <th>title</th>\n",
              "      <th>odometer</th>\n",
              "      <th>location</th>\n",
              "      <th>isimported</th>\n",
              "      <th>engine</th>\n",
              "      <th>transmission</th>\n",
              "      <th>fuel</th>\n",
              "      <th>paint</th>\n",
              "      <th>year</th>\n",
              "      <th>target</th>\n",
              "    </tr>\n",
              "  </thead>\n",
              "  <tbody>\n",
              "    <tr>\n",
              "      <th>0</th>\n",
              "      <td>0</td>\n",
              "      <td>Toyota RAV 4</td>\n",
              "      <td>18277</td>\n",
              "      <td>Lagos</td>\n",
              "      <td>Foreign Used</td>\n",
              "      <td>4-cylinder(I4)</td>\n",
              "      <td>automatic</td>\n",
              "      <td>petrol</td>\n",
              "      <td>Red</td>\n",
              "      <td>2016</td>\n",
              "      <td>13665000</td>\n",
              "    </tr>\n",
              "    <tr>\n",
              "      <th>1</th>\n",
              "      <td>1</td>\n",
              "      <td>Toyota Land Cruiser</td>\n",
              "      <td>10</td>\n",
              "      <td>Lagos</td>\n",
              "      <td>New</td>\n",
              "      <td>4-cylinder(I4)</td>\n",
              "      <td>automatic</td>\n",
              "      <td>petrol</td>\n",
              "      <td>Black</td>\n",
              "      <td>2019</td>\n",
              "      <td>33015000</td>\n",
              "    </tr>\n",
              "    <tr>\n",
              "      <th>2</th>\n",
              "      <td>2</td>\n",
              "      <td>Land Rover Range Rover Evoque</td>\n",
              "      <td>83091</td>\n",
              "      <td>Lagos</td>\n",
              "      <td>Foreign Used</td>\n",
              "      <td>6-cylinder(V6)</td>\n",
              "      <td>automatic</td>\n",
              "      <td>petrol</td>\n",
              "      <td>Red</td>\n",
              "      <td>2012</td>\n",
              "      <td>9915000</td>\n",
              "    </tr>\n",
              "    <tr>\n",
              "      <th>3</th>\n",
              "      <td>3</td>\n",
              "      <td>Lexus ES 350</td>\n",
              "      <td>91524</td>\n",
              "      <td>Lagos</td>\n",
              "      <td>Foreign Used</td>\n",
              "      <td>4-cylinder(I4)</td>\n",
              "      <td>automatic</td>\n",
              "      <td>petrol</td>\n",
              "      <td>Gray</td>\n",
              "      <td>2007</td>\n",
              "      <td>3815000</td>\n",
              "    </tr>\n",
              "    <tr>\n",
              "      <th>4</th>\n",
              "      <td>4</td>\n",
              "      <td>Toyota Venza</td>\n",
              "      <td>94177</td>\n",
              "      <td>Lagos</td>\n",
              "      <td>Foreign Used</td>\n",
              "      <td>6-cylinder(V6)</td>\n",
              "      <td>automatic</td>\n",
              "      <td>petrol</td>\n",
              "      <td>Red</td>\n",
              "      <td>2010</td>\n",
              "      <td>7385000</td>\n",
              "    </tr>\n",
              "  </tbody>\n",
              "</table>\n",
              "</div>\n",
              "      <button class=\"colab-df-convert\" onclick=\"convertToInteractive('df-bacae904-d7c8-4966-8f20-7a1eea22e9f6')\"\n",
              "              title=\"Convert this dataframe to an interactive table.\"\n",
              "              style=\"display:none;\">\n",
              "        \n",
              "  <svg xmlns=\"http://www.w3.org/2000/svg\" height=\"24px\"viewBox=\"0 0 24 24\"\n",
              "       width=\"24px\">\n",
              "    <path d=\"M0 0h24v24H0V0z\" fill=\"none\"/>\n",
              "    <path d=\"M18.56 5.44l.94 2.06.94-2.06 2.06-.94-2.06-.94-.94-2.06-.94 2.06-2.06.94zm-11 1L8.5 8.5l.94-2.06 2.06-.94-2.06-.94L8.5 2.5l-.94 2.06-2.06.94zm10 10l.94 2.06.94-2.06 2.06-.94-2.06-.94-.94-2.06-.94 2.06-2.06.94z\"/><path d=\"M17.41 7.96l-1.37-1.37c-.4-.4-.92-.59-1.43-.59-.52 0-1.04.2-1.43.59L10.3 9.45l-7.72 7.72c-.78.78-.78 2.05 0 2.83L4 21.41c.39.39.9.59 1.41.59.51 0 1.02-.2 1.41-.59l7.78-7.78 2.81-2.81c.8-.78.8-2.07 0-2.86zM5.41 20L4 18.59l7.72-7.72 1.47 1.35L5.41 20z\"/>\n",
              "  </svg>\n",
              "      </button>\n",
              "      \n",
              "  <style>\n",
              "    .colab-df-container {\n",
              "      display:flex;\n",
              "      flex-wrap:wrap;\n",
              "      gap: 12px;\n",
              "    }\n",
              "\n",
              "    .colab-df-convert {\n",
              "      background-color: #E8F0FE;\n",
              "      border: none;\n",
              "      border-radius: 50%;\n",
              "      cursor: pointer;\n",
              "      display: none;\n",
              "      fill: #1967D2;\n",
              "      height: 32px;\n",
              "      padding: 0 0 0 0;\n",
              "      width: 32px;\n",
              "    }\n",
              "\n",
              "    .colab-df-convert:hover {\n",
              "      background-color: #E2EBFA;\n",
              "      box-shadow: 0px 1px 2px rgba(60, 64, 67, 0.3), 0px 1px 3px 1px rgba(60, 64, 67, 0.15);\n",
              "      fill: #174EA6;\n",
              "    }\n",
              "\n",
              "    [theme=dark] .colab-df-convert {\n",
              "      background-color: #3B4455;\n",
              "      fill: #D2E3FC;\n",
              "    }\n",
              "\n",
              "    [theme=dark] .colab-df-convert:hover {\n",
              "      background-color: #434B5C;\n",
              "      box-shadow: 0px 1px 3px 1px rgba(0, 0, 0, 0.15);\n",
              "      filter: drop-shadow(0px 1px 2px rgba(0, 0, 0, 0.3));\n",
              "      fill: #FFFFFF;\n",
              "    }\n",
              "  </style>\n",
              "\n",
              "      <script>\n",
              "        const buttonEl =\n",
              "          document.querySelector('#df-bacae904-d7c8-4966-8f20-7a1eea22e9f6 button.colab-df-convert');\n",
              "        buttonEl.style.display =\n",
              "          google.colab.kernel.accessAllowed ? 'block' : 'none';\n",
              "\n",
              "        async function convertToInteractive(key) {\n",
              "          const element = document.querySelector('#df-bacae904-d7c8-4966-8f20-7a1eea22e9f6');\n",
              "          const dataTable =\n",
              "            await google.colab.kernel.invokeFunction('convertToInteractive',\n",
              "                                                     [key], {});\n",
              "          if (!dataTable) return;\n",
              "\n",
              "          const docLinkHtml = 'Like what you see? Visit the ' +\n",
              "            '<a target=\"_blank\" href=https://colab.research.google.com/notebooks/data_table.ipynb>data table notebook</a>'\n",
              "            + ' to learn more about interactive tables.';\n",
              "          element.innerHTML = '';\n",
              "          dataTable['output_type'] = 'display_data';\n",
              "          await google.colab.output.renderOutput(dataTable, element);\n",
              "          const docLink = document.createElement('div');\n",
              "          docLink.innerHTML = docLinkHtml;\n",
              "          element.appendChild(docLink);\n",
              "        }\n",
              "      </script>\n",
              "    </div>\n",
              "  </div>\n",
              "  "
            ]
          },
          "metadata": {},
          "execution_count": 4
        }
      ]
    },
    {
      "cell_type": "code",
      "source": [
        "test.head()"
      ],
      "metadata": {
        "colab": {
          "base_uri": "https://localhost:8080/",
          "height": 206
        },
        "id": "mdApZTsN9JwI",
        "outputId": "26f45474-0ba5-42e7-fe28-922e14f75cf0"
      },
      "execution_count": 5,
      "outputs": [
        {
          "output_type": "execute_result",
          "data": {
            "text/plain": [
              "   id                title  odometer location    isimported          engine  \\\n",
              "0   0  Mercedes-Benz C 300      1234    Abuja          New   4-cylinder(I4)   \n",
              "1   1         Honda Accord     29938    Abuja  Foreign Used  4-cylinder(I4)   \n",
              "2   2  Mercedes-Benz S 550     87501    Lagos  Foreign Used  4-cylinder(I4)   \n",
              "3   3        Toyota Sienna    180894    Lagos  Locally used  6-cylinder(V6)   \n",
              "4   4         Toyota Hiace    104814    Lagos  Foreign Used  4-cylinder(I4)   \n",
              "\n",
              "  transmission    fuel      paint  year  \n",
              "0    automatic  petrol      White  2017  \n",
              "1    automatic  petrol      White  2013  \n",
              "2    automatic  petrol      Black  2012  \n",
              "3    automatic  petrol  Dark Grey  2001  \n",
              "4    automatic  petrol      White  2000  "
            ],
            "text/html": [
              "\n",
              "  <div id=\"df-c8031fe5-c725-4cba-85a6-2d75480e915e\">\n",
              "    <div class=\"colab-df-container\">\n",
              "      <div>\n",
              "<style scoped>\n",
              "    .dataframe tbody tr th:only-of-type {\n",
              "        vertical-align: middle;\n",
              "    }\n",
              "\n",
              "    .dataframe tbody tr th {\n",
              "        vertical-align: top;\n",
              "    }\n",
              "\n",
              "    .dataframe thead th {\n",
              "        text-align: right;\n",
              "    }\n",
              "</style>\n",
              "<table border=\"1\" class=\"dataframe\">\n",
              "  <thead>\n",
              "    <tr style=\"text-align: right;\">\n",
              "      <th></th>\n",
              "      <th>id</th>\n",
              "      <th>title</th>\n",
              "      <th>odometer</th>\n",
              "      <th>location</th>\n",
              "      <th>isimported</th>\n",
              "      <th>engine</th>\n",
              "      <th>transmission</th>\n",
              "      <th>fuel</th>\n",
              "      <th>paint</th>\n",
              "      <th>year</th>\n",
              "    </tr>\n",
              "  </thead>\n",
              "  <tbody>\n",
              "    <tr>\n",
              "      <th>0</th>\n",
              "      <td>0</td>\n",
              "      <td>Mercedes-Benz C 300</td>\n",
              "      <td>1234</td>\n",
              "      <td>Abuja</td>\n",
              "      <td>New</td>\n",
              "      <td>4-cylinder(I4)</td>\n",
              "      <td>automatic</td>\n",
              "      <td>petrol</td>\n",
              "      <td>White</td>\n",
              "      <td>2017</td>\n",
              "    </tr>\n",
              "    <tr>\n",
              "      <th>1</th>\n",
              "      <td>1</td>\n",
              "      <td>Honda Accord</td>\n",
              "      <td>29938</td>\n",
              "      <td>Abuja</td>\n",
              "      <td>Foreign Used</td>\n",
              "      <td>4-cylinder(I4)</td>\n",
              "      <td>automatic</td>\n",
              "      <td>petrol</td>\n",
              "      <td>White</td>\n",
              "      <td>2013</td>\n",
              "    </tr>\n",
              "    <tr>\n",
              "      <th>2</th>\n",
              "      <td>2</td>\n",
              "      <td>Mercedes-Benz S 550</td>\n",
              "      <td>87501</td>\n",
              "      <td>Lagos</td>\n",
              "      <td>Foreign Used</td>\n",
              "      <td>4-cylinder(I4)</td>\n",
              "      <td>automatic</td>\n",
              "      <td>petrol</td>\n",
              "      <td>Black</td>\n",
              "      <td>2012</td>\n",
              "    </tr>\n",
              "    <tr>\n",
              "      <th>3</th>\n",
              "      <td>3</td>\n",
              "      <td>Toyota Sienna</td>\n",
              "      <td>180894</td>\n",
              "      <td>Lagos</td>\n",
              "      <td>Locally used</td>\n",
              "      <td>6-cylinder(V6)</td>\n",
              "      <td>automatic</td>\n",
              "      <td>petrol</td>\n",
              "      <td>Dark Grey</td>\n",
              "      <td>2001</td>\n",
              "    </tr>\n",
              "    <tr>\n",
              "      <th>4</th>\n",
              "      <td>4</td>\n",
              "      <td>Toyota Hiace</td>\n",
              "      <td>104814</td>\n",
              "      <td>Lagos</td>\n",
              "      <td>Foreign Used</td>\n",
              "      <td>4-cylinder(I4)</td>\n",
              "      <td>automatic</td>\n",
              "      <td>petrol</td>\n",
              "      <td>White</td>\n",
              "      <td>2000</td>\n",
              "    </tr>\n",
              "  </tbody>\n",
              "</table>\n",
              "</div>\n",
              "      <button class=\"colab-df-convert\" onclick=\"convertToInteractive('df-c8031fe5-c725-4cba-85a6-2d75480e915e')\"\n",
              "              title=\"Convert this dataframe to an interactive table.\"\n",
              "              style=\"display:none;\">\n",
              "        \n",
              "  <svg xmlns=\"http://www.w3.org/2000/svg\" height=\"24px\"viewBox=\"0 0 24 24\"\n",
              "       width=\"24px\">\n",
              "    <path d=\"M0 0h24v24H0V0z\" fill=\"none\"/>\n",
              "    <path d=\"M18.56 5.44l.94 2.06.94-2.06 2.06-.94-2.06-.94-.94-2.06-.94 2.06-2.06.94zm-11 1L8.5 8.5l.94-2.06 2.06-.94-2.06-.94L8.5 2.5l-.94 2.06-2.06.94zm10 10l.94 2.06.94-2.06 2.06-.94-2.06-.94-.94-2.06-.94 2.06-2.06.94z\"/><path d=\"M17.41 7.96l-1.37-1.37c-.4-.4-.92-.59-1.43-.59-.52 0-1.04.2-1.43.59L10.3 9.45l-7.72 7.72c-.78.78-.78 2.05 0 2.83L4 21.41c.39.39.9.59 1.41.59.51 0 1.02-.2 1.41-.59l7.78-7.78 2.81-2.81c.8-.78.8-2.07 0-2.86zM5.41 20L4 18.59l7.72-7.72 1.47 1.35L5.41 20z\"/>\n",
              "  </svg>\n",
              "      </button>\n",
              "      \n",
              "  <style>\n",
              "    .colab-df-container {\n",
              "      display:flex;\n",
              "      flex-wrap:wrap;\n",
              "      gap: 12px;\n",
              "    }\n",
              "\n",
              "    .colab-df-convert {\n",
              "      background-color: #E8F0FE;\n",
              "      border: none;\n",
              "      border-radius: 50%;\n",
              "      cursor: pointer;\n",
              "      display: none;\n",
              "      fill: #1967D2;\n",
              "      height: 32px;\n",
              "      padding: 0 0 0 0;\n",
              "      width: 32px;\n",
              "    }\n",
              "\n",
              "    .colab-df-convert:hover {\n",
              "      background-color: #E2EBFA;\n",
              "      box-shadow: 0px 1px 2px rgba(60, 64, 67, 0.3), 0px 1px 3px 1px rgba(60, 64, 67, 0.15);\n",
              "      fill: #174EA6;\n",
              "    }\n",
              "\n",
              "    [theme=dark] .colab-df-convert {\n",
              "      background-color: #3B4455;\n",
              "      fill: #D2E3FC;\n",
              "    }\n",
              "\n",
              "    [theme=dark] .colab-df-convert:hover {\n",
              "      background-color: #434B5C;\n",
              "      box-shadow: 0px 1px 3px 1px rgba(0, 0, 0, 0.15);\n",
              "      filter: drop-shadow(0px 1px 2px rgba(0, 0, 0, 0.3));\n",
              "      fill: #FFFFFF;\n",
              "    }\n",
              "  </style>\n",
              "\n",
              "      <script>\n",
              "        const buttonEl =\n",
              "          document.querySelector('#df-c8031fe5-c725-4cba-85a6-2d75480e915e button.colab-df-convert');\n",
              "        buttonEl.style.display =\n",
              "          google.colab.kernel.accessAllowed ? 'block' : 'none';\n",
              "\n",
              "        async function convertToInteractive(key) {\n",
              "          const element = document.querySelector('#df-c8031fe5-c725-4cba-85a6-2d75480e915e');\n",
              "          const dataTable =\n",
              "            await google.colab.kernel.invokeFunction('convertToInteractive',\n",
              "                                                     [key], {});\n",
              "          if (!dataTable) return;\n",
              "\n",
              "          const docLinkHtml = 'Like what you see? Visit the ' +\n",
              "            '<a target=\"_blank\" href=https://colab.research.google.com/notebooks/data_table.ipynb>data table notebook</a>'\n",
              "            + ' to learn more about interactive tables.';\n",
              "          element.innerHTML = '';\n",
              "          dataTable['output_type'] = 'display_data';\n",
              "          await google.colab.output.renderOutput(dataTable, element);\n",
              "          const docLink = document.createElement('div');\n",
              "          docLink.innerHTML = docLinkHtml;\n",
              "          element.appendChild(docLink);\n",
              "        }\n",
              "      </script>\n",
              "    </div>\n",
              "  </div>\n",
              "  "
            ]
          },
          "metadata": {},
          "execution_count": 5
        }
      ]
    },
    {
      "cell_type": "markdown",
      "source": [
        "title 컬럼부터 살펴보도록 하겠습니다."
      ],
      "metadata": {
        "id": "Z5PYkDDGoVpS"
      }
    },
    {
      "cell_type": "code",
      "source": [
        "sorted(train.title.unique())"
      ],
      "metadata": {
        "colab": {
          "base_uri": "https://localhost:8080/"
        },
        "id": "NcVUJ99pAIKa",
        "outputId": "499e39f6-d88f-4393-b824-13de90a50ceb"
      },
      "execution_count": 6,
      "outputs": [
        {
          "output_type": "execute_result",
          "data": {
            "text/plain": [
              "['ALPINA B3',\n",
              " 'Acura MDX',\n",
              " 'Acura RDX',\n",
              " 'Acura TL',\n",
              " 'Acura ZDX',\n",
              " 'Audi S6',\n",
              " 'BMW 325',\n",
              " 'BMW 335',\n",
              " 'BMW 528',\n",
              " 'BMW 730',\n",
              " 'BMW 740',\n",
              " 'BMW 745',\n",
              " 'BMW 750',\n",
              " 'BMW X6',\n",
              " 'Bentley Arnage',\n",
              " 'Chevrolet Camaro',\n",
              " 'Chevrolet Evanda',\n",
              " 'Chevrolet Traverse',\n",
              " 'DAF 45',\n",
              " 'DAF 95XF TRACTOR HEAD',\n",
              " 'DAF CF',\n",
              " 'DAF FA 55. 180',\n",
              " 'Dodge Charger',\n",
              " 'Ford Edge',\n",
              " 'Ford Escape',\n",
              " 'Ford Expedition',\n",
              " 'Ford Explorer',\n",
              " 'Ford F 150',\n",
              " 'Ford Focus',\n",
              " 'Ford Fusion',\n",
              " 'Ford Transit',\n",
              " 'GAC Gonow Other',\n",
              " 'GMC Terrain',\n",
              " 'Honda Accord',\n",
              " 'Honda CR-V',\n",
              " 'Honda Civic',\n",
              " 'Honda Crosstour',\n",
              " 'Honda Element',\n",
              " 'Honda Fit',\n",
              " 'Honda Insight',\n",
              " 'Honda Odyssey',\n",
              " 'Honda Pilot',\n",
              " 'Honda Ridgeline',\n",
              " 'Hyundai Azera',\n",
              " 'Hyundai Elantra',\n",
              " 'Hyundai Santa Fe',\n",
              " 'Hyundai Sonata',\n",
              " 'Hyundai Tucson',\n",
              " 'Hyundai ix35',\n",
              " 'IVECO EUROTECH 7.50E-16',\n",
              " 'IVM LT35',\n",
              " 'Infiniti FX',\n",
              " 'Infiniti JX',\n",
              " 'Infiniti M35',\n",
              " 'Infiniti QX80',\n",
              " 'Isuzu CABSTER',\n",
              " 'Isuzu NQR',\n",
              " 'Iveco TRUCK',\n",
              " 'JMC Vigus',\n",
              " 'Jaguar X-Type',\n",
              " 'Jaguar XJ8',\n",
              " 'Jeep Cherokee',\n",
              " 'Kia Cerato',\n",
              " 'Kia Optima',\n",
              " 'Kia Picanto',\n",
              " 'Kia Rio',\n",
              " 'Kia Sorento',\n",
              " 'Kia Soul',\n",
              " 'Kia Stinger',\n",
              " 'Land Rover Range Rover',\n",
              " 'Land Rover Range Rover Evoque',\n",
              " 'Land Rover Range Rover Sport',\n",
              " 'Land Rover Range Rover Velar',\n",
              " 'Lexus CT 200h',\n",
              " 'Lexus ES 300',\n",
              " 'Lexus ES 330',\n",
              " 'Lexus ES 350',\n",
              " 'Lexus GS 300',\n",
              " 'Lexus GS 350',\n",
              " 'Lexus GX 460',\n",
              " 'Lexus GX 470',\n",
              " 'Lexus IS 250',\n",
              " 'Lexus LS 460',\n",
              " 'Lexus LX 570',\n",
              " 'Lexus RX 300',\n",
              " 'Lexus RX 330',\n",
              " 'Lexus RX 350',\n",
              " 'Lincoln Mark',\n",
              " 'MAN-VOLKSWAGEN FLATBED',\n",
              " 'MINI Cooper',\n",
              " 'MINI Cooper Countryman',\n",
              " 'Mack CH613',\n",
              " 'Mack CH613 CONVENTIONAL CAB',\n",
              " 'Mack CXN613',\n",
              " 'Mack CXN613 CAB BEHIND ENGINE',\n",
              " 'Mack R-686ST',\n",
              " 'Man BOCKMANN',\n",
              " 'Man Diesel 19.314 FILT-N',\n",
              " 'Man TGA 18.360',\n",
              " 'Man Truck 18.44',\n",
              " 'Mazda 323',\n",
              " 'Mazda 6',\n",
              " 'Mazda CX-9',\n",
              " 'Mazda Tribute',\n",
              " 'Mercedes-Benz 200',\n",
              " 'Mercedes-Benz 220',\n",
              " 'Mercedes-Benz 300',\n",
              " 'Mercedes-Benz 320',\n",
              " 'Mercedes-Benz 350',\n",
              " 'Mercedes-Benz 450',\n",
              " 'Mercedes-Benz 709 DB',\n",
              " 'Mercedes-Benz 814',\n",
              " 'Mercedes-Benz ATEGO',\n",
              " 'Mercedes-Benz C 180',\n",
              " 'Mercedes-Benz C 250',\n",
              " 'Mercedes-Benz C 300',\n",
              " 'Mercedes-Benz C 350',\n",
              " 'Mercedes-Benz C 450 AMG',\n",
              " 'Mercedes-Benz C 63 AMG',\n",
              " 'Mercedes-Benz CLA 250',\n",
              " 'Mercedes-Benz CLS 500',\n",
              " 'Mercedes-Benz E 200',\n",
              " 'Mercedes-Benz E 300',\n",
              " 'Mercedes-Benz E 320',\n",
              " 'Mercedes-Benz E 350',\n",
              " 'Mercedes-Benz E 550',\n",
              " 'Mercedes-Benz G 63 AMG',\n",
              " 'Mercedes-Benz GL 450',\n",
              " 'Mercedes-Benz GLA 250',\n",
              " 'Mercedes-Benz GLC 300',\n",
              " 'Mercedes-Benz GLE 350',\n",
              " 'Mercedes-Benz GLE 43 AMG',\n",
              " 'Mercedes-Benz GLK 350',\n",
              " 'Mercedes-Benz ML 320',\n",
              " 'Mercedes-Benz ML 350',\n",
              " 'Mercedes-Benz ML 430',\n",
              " 'Mercedes-Benz S 450',\n",
              " 'Mercedes-Benz SL 400',\n",
              " 'Mercedes-Benz/52',\n",
              " 'Mitsubishi CANTER PICK UP',\n",
              " 'Mitsubishi Galant',\n",
              " 'Mitsubishi Pajero',\n",
              " 'Nissan Altima',\n",
              " 'Nissan Cabstar',\n",
              " 'Nissan Frontier',\n",
              " 'Nissan INFINITI M90.150/2',\n",
              " 'Nissan Maxima',\n",
              " 'Nissan Murano',\n",
              " 'Nissan Pathfinder',\n",
              " 'Nissan Quest',\n",
              " 'Nissan Rogue',\n",
              " 'Nissan Sentra',\n",
              " 'Nissan Titan',\n",
              " 'Nissan Versa',\n",
              " 'Nissan X-Trail',\n",
              " 'Nissan Xterra',\n",
              " 'Peugeot 206',\n",
              " 'Peugeot 308',\n",
              " 'Peugeot 607',\n",
              " 'Pontiac Vibe',\n",
              " 'Porsche Cayenne',\n",
              " 'Porsche Macan',\n",
              " 'Porsche Panamera',\n",
              " 'Rolls-Royce Ghost',\n",
              " 'Scania P94 FLATBED',\n",
              " 'Scania TRACTOR HEAD',\n",
              " 'Toyota 4-Runner',\n",
              " 'Toyota Avalon',\n",
              " 'Toyota Avensis',\n",
              " 'Toyota Camry',\n",
              " 'Toyota Coaster',\n",
              " 'Toyota Corolla',\n",
              " 'Toyota DYNA 200',\n",
              " 'Toyota Dyna',\n",
              " 'Toyota Hiace',\n",
              " 'Toyota Highlander',\n",
              " 'Toyota Hilux',\n",
              " 'Toyota Land Cruiser',\n",
              " 'Toyota Matrix',\n",
              " 'Toyota Prado',\n",
              " 'Toyota RAV 4',\n",
              " 'Toyota Sequoia',\n",
              " 'Toyota Sienna',\n",
              " 'Toyota Solara',\n",
              " 'Toyota Tacoma',\n",
              " 'Toyota Tundra',\n",
              " 'Toyota Venza',\n",
              " 'Toyota Vitz',\n",
              " 'Toyota Yaris',\n",
              " 'Volkswagen 17.22',\n",
              " 'Volkswagen Golf',\n",
              " 'Volkswagen Jetta',\n",
              " 'Volkswagen LT',\n",
              " 'Volkswagen Passat',\n",
              " 'Volkswagen Sharan',\n",
              " 'Volkswagen T4 Caravelle',\n",
              " 'Volkswagen T6 other',\n",
              " 'Volkswagen Tiguan',\n",
              " 'Volkswagen Touareg',\n",
              " 'Volvo FH12',\n",
              " 'Volvo FL6',\n",
              " 'Volvo XC60',\n",
              " 'Volvo XC90']"
            ]
          },
          "metadata": {},
          "execution_count": 6
        }
      ]
    },
    {
      "cell_type": "code",
      "source": [
        "sorted(test.title.unique())"
      ],
      "metadata": {
        "colab": {
          "base_uri": "https://localhost:8080/"
        },
        "id": "nPRrCum5ALLA",
        "outputId": "174fa9a8-dd59-4ec5-f6a5-8de5856df51f"
      },
      "execution_count": 7,
      "outputs": [
        {
          "output_type": "execute_result",
          "data": {
            "text/plain": [
              "['Acura MDX',\n",
              " 'Acura RDX',\n",
              " 'Acura TL',\n",
              " 'Acura TSX',\n",
              " 'BMW 525',\n",
              " 'BMW 535',\n",
              " 'BMW X3',\n",
              " 'Chevrolet Camaro',\n",
              " 'DAF XF TRACTOR HEAD',\n",
              " 'Fiat Ducato',\n",
              " 'Ford Edge',\n",
              " 'Ford Explorer',\n",
              " 'Ford F 150',\n",
              " 'Ford Fusion',\n",
              " 'Ford Mondeo',\n",
              " 'Ford Mustang',\n",
              " 'Ford TRANSIT PICKUP',\n",
              " 'Ford Transit',\n",
              " 'Honda Accord',\n",
              " 'Honda CR-V',\n",
              " 'Honda Civic',\n",
              " 'Honda Crosstour',\n",
              " 'Honda Element',\n",
              " 'Honda Fit',\n",
              " 'Honda Odyssey',\n",
              " 'Honda Pilot',\n",
              " 'Honda Ridgeline',\n",
              " 'Hyundai Azera',\n",
              " 'Hyundai Elantra',\n",
              " 'Hyundai Santa Fe',\n",
              " 'Hyundai Sonata',\n",
              " 'Infiniti FX',\n",
              " 'Iveco EUROCARGO 120e18',\n",
              " 'Iveco TRUCK',\n",
              " 'Jeep Wrangler',\n",
              " 'Kia Optima',\n",
              " 'Kia Rio',\n",
              " 'Land Rover Discovery',\n",
              " 'Land Rover Range Rover',\n",
              " 'Land Rover Range Rover Sport',\n",
              " 'Lexus ES 300',\n",
              " 'Lexus ES 350',\n",
              " 'Lexus GS 300',\n",
              " 'Lexus GS 350',\n",
              " 'Lexus GX 460',\n",
              " 'Lexus GX 470',\n",
              " 'Lexus IS 250',\n",
              " 'Lexus LX 570',\n",
              " 'Lexus RX 300',\n",
              " 'Lexus RX 330',\n",
              " 'Lexus RX 350',\n",
              " 'Lexus RX 400',\n",
              " 'MINI Cooper',\n",
              " 'MINI Cooper Coupé',\n",
              " 'Mack CXN613 CAB BEHIND ENGINE',\n",
              " 'Mack R-686ST',\n",
              " 'Man 26-403',\n",
              " 'Man BOCKMANN',\n",
              " 'Man LE 8. 180 PLATFORM TRUCK',\n",
              " 'Mazda 323',\n",
              " 'Mercedes-Benz 220',\n",
              " 'Mercedes-Benz 300',\n",
              " 'Mercedes-Benz 814',\n",
              " 'Mercedes-Benz C 180',\n",
              " 'Mercedes-Benz C 300',\n",
              " 'Mercedes-Benz C 320',\n",
              " 'Mercedes-Benz C 350',\n",
              " 'Mercedes-Benz CABIN PLUS CHASSIS ONLY',\n",
              " 'Mercedes-Benz CLS 500',\n",
              " 'Mercedes-Benz DUMP TRUCK',\n",
              " 'Mercedes-Benz E 300',\n",
              " 'Mercedes-Benz E 350',\n",
              " 'Mercedes-Benz G 550',\n",
              " 'Mercedes-Benz GLA 180',\n",
              " 'Mercedes-Benz GLE 350',\n",
              " 'Mercedes-Benz GLE 450',\n",
              " 'Mercedes-Benz GLK 300',\n",
              " 'Mercedes-Benz GLK 350',\n",
              " 'Mercedes-Benz ML 350',\n",
              " 'Mercedes-Benz Maybach',\n",
              " 'Mercedes-Benz S 550',\n",
              " 'Mercedes-Benz WATER TANKER',\n",
              " 'Mitsubishi Eclipse',\n",
              " 'Mitsubishi L200',\n",
              " 'Mitsubishi Montero',\n",
              " 'Mitsubishi Pajero',\n",
              " 'Nissan A',\n",
              " 'Nissan Altima',\n",
              " 'Nissan Cabstar',\n",
              " 'Nissan INFINITI M90.150/2',\n",
              " 'Nissan Pathfinder',\n",
              " 'Nissan Primera',\n",
              " 'Nissan Sentra',\n",
              " 'Nissan Xterra',\n",
              " 'Peugeot 206',\n",
              " 'Peugeot 307',\n",
              " 'Pontiac Vibe',\n",
              " 'Porsche Cayenne',\n",
              " 'Rolls-Royce Ghost',\n",
              " 'Toyota 4-Runner',\n",
              " 'Toyota Avalon',\n",
              " 'Toyota Avensis',\n",
              " 'Toyota C-HR',\n",
              " 'Toyota Camry',\n",
              " 'Toyota Corolla',\n",
              " 'Toyota Hiace',\n",
              " 'Toyota Highlander',\n",
              " 'Toyota Hilux',\n",
              " 'Toyota Land Cruiser',\n",
              " 'Toyota Matrix',\n",
              " 'Toyota Prius',\n",
              " 'Toyota RAV 4',\n",
              " 'Toyota Sienna',\n",
              " 'Toyota Tacoma',\n",
              " 'Toyota Tundra',\n",
              " 'Toyota Venza',\n",
              " 'Toyota Yaris',\n",
              " 'Volkswagen Golf',\n",
              " 'Volkswagen Passat',\n",
              " 'Volkswagen Sharan',\n",
              " 'Volvo FL12',\n",
              " 'Volvo FL6',\n",
              " 'Volvo FL7',\n",
              " 'Volvo S80']"
            ]
          },
          "metadata": {},
          "execution_count": 7
        }
      ]
    },
    {
      "cell_type": "markdown",
      "source": [
        "차의 종류가 어마무시하게 많습니다. 들어보지도 못한 차들이 많네요.\n",
        "많은 차들 중에 train에만 있는 차와 test에만 있는 차도 있을 것 같습니다.\n"
      ],
      "metadata": {
        "id": "XFW7_qAuArrR"
      }
    },
    {
      "cell_type": "code",
      "source": [
        "# only_train_data_title = sorted([name for name in train.title.unique() if name not in test.title.unique()])\n",
        "only_train_data_title = set(train.title.unique()) - set(test.title.unique())\n",
        "# only_test_data_title = sorted([name for name in test.title.unique() if name not in test.title.unique()])\n",
        "only_test_data_title = set(test.title.unique()) - set(train.title.unique()) "
      ],
      "metadata": {
        "id": "a5hD3pmUA-QX"
      },
      "execution_count": 8,
      "outputs": []
    },
    {
      "cell_type": "code",
      "source": [
        "print(f'train만 있는 차 종류 : {len(only_train_data_title)}, test만 있는 차 종류 : {len(only_test_data_title)})')"
      ],
      "metadata": {
        "colab": {
          "base_uri": "https://localhost:8080/"
        },
        "id": "WU5gk8V9D58y",
        "outputId": "ce243169-fbd0-47f0-9d7e-bd54ec81cffb"
      },
      "execution_count": 9,
      "outputs": [
        {
          "output_type": "stream",
          "name": "stdout",
          "text": [
            "train만 있는 차 종류 : 116, test만 있는 차 종류 : 37)\n"
          ]
        }
      ]
    },
    {
      "cell_type": "code",
      "source": [
        "only_train_data_title"
      ],
      "metadata": {
        "colab": {
          "base_uri": "https://localhost:8080/"
        },
        "id": "l640cnAfGS3k",
        "outputId": "3b1f8f8c-3ff0-4441-918d-a73568599eb0"
      },
      "execution_count": 10,
      "outputs": [
        {
          "output_type": "execute_result",
          "data": {
            "text/plain": [
              "{'ALPINA B3',\n",
              " 'Acura ZDX',\n",
              " 'Audi S6',\n",
              " 'BMW 325',\n",
              " 'BMW 335',\n",
              " 'BMW 528',\n",
              " 'BMW 730',\n",
              " 'BMW 740',\n",
              " 'BMW 745',\n",
              " 'BMW 750',\n",
              " 'BMW X6',\n",
              " 'Bentley Arnage',\n",
              " 'Chevrolet Evanda',\n",
              " 'Chevrolet Traverse',\n",
              " 'DAF 45',\n",
              " 'DAF 95XF TRACTOR HEAD',\n",
              " 'DAF CF',\n",
              " 'DAF FA 55. 180',\n",
              " 'Dodge Charger',\n",
              " 'Ford Escape',\n",
              " 'Ford Expedition',\n",
              " 'Ford Focus',\n",
              " 'GAC Gonow Other',\n",
              " 'GMC Terrain',\n",
              " 'Honda Insight',\n",
              " 'Hyundai Tucson',\n",
              " 'Hyundai ix35',\n",
              " 'IVECO EUROTECH 7.50E-16',\n",
              " 'IVM LT35',\n",
              " 'Infiniti JX',\n",
              " 'Infiniti M35',\n",
              " 'Infiniti QX80',\n",
              " 'Isuzu CABSTER',\n",
              " 'Isuzu NQR',\n",
              " 'JMC Vigus',\n",
              " 'Jaguar X-Type',\n",
              " 'Jaguar XJ8',\n",
              " 'Jeep Cherokee',\n",
              " 'Kia Cerato',\n",
              " 'Kia Picanto',\n",
              " 'Kia Sorento',\n",
              " 'Kia Soul',\n",
              " 'Kia Stinger',\n",
              " 'Land Rover Range Rover Evoque',\n",
              " 'Land Rover Range Rover Velar',\n",
              " 'Lexus CT 200h',\n",
              " 'Lexus ES 330',\n",
              " 'Lexus LS 460',\n",
              " 'Lincoln Mark',\n",
              " 'MAN-VOLKSWAGEN FLATBED',\n",
              " 'MINI Cooper Countryman',\n",
              " 'Mack CH613',\n",
              " 'Mack CH613 CONVENTIONAL CAB',\n",
              " 'Mack CXN613',\n",
              " 'Man Diesel 19.314 FILT-N',\n",
              " 'Man TGA 18.360',\n",
              " 'Man Truck 18.44',\n",
              " 'Mazda 6',\n",
              " 'Mazda CX-9',\n",
              " 'Mazda Tribute',\n",
              " 'Mercedes-Benz 200',\n",
              " 'Mercedes-Benz 320',\n",
              " 'Mercedes-Benz 350',\n",
              " 'Mercedes-Benz 450',\n",
              " 'Mercedes-Benz 709 DB',\n",
              " 'Mercedes-Benz ATEGO',\n",
              " 'Mercedes-Benz C 250',\n",
              " 'Mercedes-Benz C 450 AMG',\n",
              " 'Mercedes-Benz C 63 AMG',\n",
              " 'Mercedes-Benz CLA 250',\n",
              " 'Mercedes-Benz E 200',\n",
              " 'Mercedes-Benz E 320',\n",
              " 'Mercedes-Benz E 550',\n",
              " 'Mercedes-Benz G 63 AMG',\n",
              " 'Mercedes-Benz GL 450',\n",
              " 'Mercedes-Benz GLA 250',\n",
              " 'Mercedes-Benz GLC 300',\n",
              " 'Mercedes-Benz GLE 43 AMG',\n",
              " 'Mercedes-Benz ML 320',\n",
              " 'Mercedes-Benz ML 430',\n",
              " 'Mercedes-Benz S 450',\n",
              " 'Mercedes-Benz SL 400',\n",
              " 'Mercedes-Benz/52',\n",
              " 'Mitsubishi CANTER PICK UP',\n",
              " 'Mitsubishi Galant',\n",
              " 'Nissan Frontier',\n",
              " 'Nissan Maxima',\n",
              " 'Nissan Murano',\n",
              " 'Nissan Quest',\n",
              " 'Nissan Rogue',\n",
              " 'Nissan Titan',\n",
              " 'Nissan Versa',\n",
              " 'Nissan X-Trail',\n",
              " 'Peugeot 308',\n",
              " 'Peugeot 607',\n",
              " 'Porsche Macan',\n",
              " 'Porsche Panamera',\n",
              " 'Scania P94 FLATBED',\n",
              " 'Scania TRACTOR HEAD',\n",
              " 'Toyota Coaster',\n",
              " 'Toyota DYNA 200',\n",
              " 'Toyota Dyna',\n",
              " 'Toyota Prado',\n",
              " 'Toyota Sequoia',\n",
              " 'Toyota Solara',\n",
              " 'Toyota Vitz',\n",
              " 'Volkswagen 17.22',\n",
              " 'Volkswagen Jetta',\n",
              " 'Volkswagen LT',\n",
              " 'Volkswagen T4 Caravelle',\n",
              " 'Volkswagen T6 other',\n",
              " 'Volkswagen Tiguan',\n",
              " 'Volkswagen Touareg',\n",
              " 'Volvo FH12',\n",
              " 'Volvo XC60',\n",
              " 'Volvo XC90'}"
            ]
          },
          "metadata": {},
          "execution_count": 10
        }
      ]
    },
    {
      "cell_type": "code",
      "source": [
        "only_test_data_title"
      ],
      "metadata": {
        "colab": {
          "base_uri": "https://localhost:8080/"
        },
        "id": "eiXXr62BFl6g",
        "outputId": "d9518511-000a-4ddd-ec58-c21b152ad1dc"
      },
      "execution_count": 11,
      "outputs": [
        {
          "output_type": "execute_result",
          "data": {
            "text/plain": [
              "{'Acura TSX',\n",
              " 'BMW 525',\n",
              " 'BMW 535',\n",
              " 'BMW X3',\n",
              " 'DAF XF TRACTOR HEAD',\n",
              " 'Fiat Ducato',\n",
              " 'Ford Mondeo',\n",
              " 'Ford Mustang',\n",
              " 'Ford TRANSIT PICKUP',\n",
              " 'Iveco EUROCARGO 120e18',\n",
              " 'Jeep Wrangler',\n",
              " 'Land Rover Discovery',\n",
              " 'Lexus RX 400',\n",
              " 'MINI Cooper Coupé',\n",
              " 'Man 26-403',\n",
              " 'Man LE 8. 180 PLATFORM TRUCK',\n",
              " 'Mercedes-Benz C 320',\n",
              " 'Mercedes-Benz CABIN PLUS CHASSIS ONLY',\n",
              " 'Mercedes-Benz DUMP TRUCK',\n",
              " 'Mercedes-Benz G 550',\n",
              " 'Mercedes-Benz GLA 180',\n",
              " 'Mercedes-Benz GLE 450',\n",
              " 'Mercedes-Benz GLK 300',\n",
              " 'Mercedes-Benz Maybach',\n",
              " 'Mercedes-Benz S 550',\n",
              " 'Mercedes-Benz WATER TANKER',\n",
              " 'Mitsubishi Eclipse',\n",
              " 'Mitsubishi L200',\n",
              " 'Mitsubishi Montero',\n",
              " 'Nissan A',\n",
              " 'Nissan Primera',\n",
              " 'Peugeot 307',\n",
              " 'Toyota C-HR',\n",
              " 'Toyota Prius',\n",
              " 'Volvo FL12',\n",
              " 'Volvo FL7',\n",
              " 'Volvo S80'}"
            ]
          },
          "metadata": {},
          "execution_count": 11
        }
      ]
    },
    {
      "cell_type": "markdown",
      "source": [
        "train에만 존재하는 차가 116종류, test에만 존재하는 차가 37종류가 있네요. train의 경우에는 차를 제거하면 되지만, test에 있는 차는 제거할 수 없으니 이를 직접 가공할 방법은 더 생각해봐야겠습니다.\n",
        "\n",
        "자동차 제조사별로 네이밍 규칙이 다르겠지만, 시리즈가 있는 차들의 경우 (BMW 5 Series) 더 세분화하여 나눠주는 작업도 유의미할 것이라고 생각됩니다. 이름에 제작 모델이 직접 들어가 있지 않은 경우 title과 year를 통해 차량 세대를 알 수 있을 것입니다.\n",
        "\n",
        "\n",
        "해당 노트북은 Baseline EDA에서 작성된 브랜드를 추출하여 새로운 컬럼을 만드는 방법을 사용하도록 하겠습니다. 같은 등급일수록 브랜드에 따라 가격이 다를 수 있기 때문입니다.\n"
      ],
      "metadata": {
        "id": "7GmB87N7DcR0"
      }
    },
    {
      "cell_type": "code",
      "source": [
        "train['title'].apply(lambda x : x.split(\" \")[0])\n",
        "\n",
        "train['brand'] = train['title'].apply(lambda x : x.split(\" \")[0])\n",
        "train.head()"
      ],
      "metadata": {
        "colab": {
          "base_uri": "https://localhost:8080/",
          "height": 206
        },
        "id": "B8yXE_I5ke5B",
        "outputId": "6609f4d1-779e-49fb-8f49-cbb440ec1fd2"
      },
      "execution_count": 12,
      "outputs": [
        {
          "output_type": "execute_result",
          "data": {
            "text/plain": [
              "   id                          title  odometer location    isimported  \\\n",
              "0   0                   Toyota RAV 4     18277   Lagos   Foreign Used   \n",
              "1   1            Toyota Land Cruiser        10    Lagos          New    \n",
              "2   2  Land Rover Range Rover Evoque     83091    Lagos  Foreign Used   \n",
              "3   3                   Lexus ES 350     91524    Lagos  Foreign Used   \n",
              "4   4                   Toyota Venza     94177    Lagos  Foreign Used   \n",
              "\n",
              "           engine transmission    fuel  paint  year    target   brand  \n",
              "0  4-cylinder(I4)    automatic  petrol    Red  2016  13665000  Toyota  \n",
              "1  4-cylinder(I4)    automatic  petrol  Black  2019  33015000  Toyota  \n",
              "2  6-cylinder(V6)    automatic  petrol    Red  2012   9915000    Land  \n",
              "3  4-cylinder(I4)    automatic  petrol   Gray  2007   3815000   Lexus  \n",
              "4  6-cylinder(V6)    automatic  petrol    Red  2010   7385000  Toyota  "
            ],
            "text/html": [
              "\n",
              "  <div id=\"df-bbba73fa-1575-4f37-9484-16749fc20e5b\">\n",
              "    <div class=\"colab-df-container\">\n",
              "      <div>\n",
              "<style scoped>\n",
              "    .dataframe tbody tr th:only-of-type {\n",
              "        vertical-align: middle;\n",
              "    }\n",
              "\n",
              "    .dataframe tbody tr th {\n",
              "        vertical-align: top;\n",
              "    }\n",
              "\n",
              "    .dataframe thead th {\n",
              "        text-align: right;\n",
              "    }\n",
              "</style>\n",
              "<table border=\"1\" class=\"dataframe\">\n",
              "  <thead>\n",
              "    <tr style=\"text-align: right;\">\n",
              "      <th></th>\n",
              "      <th>id</th>\n",
              "      <th>title</th>\n",
              "      <th>odometer</th>\n",
              "      <th>location</th>\n",
              "      <th>isimported</th>\n",
              "      <th>engine</th>\n",
              "      <th>transmission</th>\n",
              "      <th>fuel</th>\n",
              "      <th>paint</th>\n",
              "      <th>year</th>\n",
              "      <th>target</th>\n",
              "      <th>brand</th>\n",
              "    </tr>\n",
              "  </thead>\n",
              "  <tbody>\n",
              "    <tr>\n",
              "      <th>0</th>\n",
              "      <td>0</td>\n",
              "      <td>Toyota RAV 4</td>\n",
              "      <td>18277</td>\n",
              "      <td>Lagos</td>\n",
              "      <td>Foreign Used</td>\n",
              "      <td>4-cylinder(I4)</td>\n",
              "      <td>automatic</td>\n",
              "      <td>petrol</td>\n",
              "      <td>Red</td>\n",
              "      <td>2016</td>\n",
              "      <td>13665000</td>\n",
              "      <td>Toyota</td>\n",
              "    </tr>\n",
              "    <tr>\n",
              "      <th>1</th>\n",
              "      <td>1</td>\n",
              "      <td>Toyota Land Cruiser</td>\n",
              "      <td>10</td>\n",
              "      <td>Lagos</td>\n",
              "      <td>New</td>\n",
              "      <td>4-cylinder(I4)</td>\n",
              "      <td>automatic</td>\n",
              "      <td>petrol</td>\n",
              "      <td>Black</td>\n",
              "      <td>2019</td>\n",
              "      <td>33015000</td>\n",
              "      <td>Toyota</td>\n",
              "    </tr>\n",
              "    <tr>\n",
              "      <th>2</th>\n",
              "      <td>2</td>\n",
              "      <td>Land Rover Range Rover Evoque</td>\n",
              "      <td>83091</td>\n",
              "      <td>Lagos</td>\n",
              "      <td>Foreign Used</td>\n",
              "      <td>6-cylinder(V6)</td>\n",
              "      <td>automatic</td>\n",
              "      <td>petrol</td>\n",
              "      <td>Red</td>\n",
              "      <td>2012</td>\n",
              "      <td>9915000</td>\n",
              "      <td>Land</td>\n",
              "    </tr>\n",
              "    <tr>\n",
              "      <th>3</th>\n",
              "      <td>3</td>\n",
              "      <td>Lexus ES 350</td>\n",
              "      <td>91524</td>\n",
              "      <td>Lagos</td>\n",
              "      <td>Foreign Used</td>\n",
              "      <td>4-cylinder(I4)</td>\n",
              "      <td>automatic</td>\n",
              "      <td>petrol</td>\n",
              "      <td>Gray</td>\n",
              "      <td>2007</td>\n",
              "      <td>3815000</td>\n",
              "      <td>Lexus</td>\n",
              "    </tr>\n",
              "    <tr>\n",
              "      <th>4</th>\n",
              "      <td>4</td>\n",
              "      <td>Toyota Venza</td>\n",
              "      <td>94177</td>\n",
              "      <td>Lagos</td>\n",
              "      <td>Foreign Used</td>\n",
              "      <td>6-cylinder(V6)</td>\n",
              "      <td>automatic</td>\n",
              "      <td>petrol</td>\n",
              "      <td>Red</td>\n",
              "      <td>2010</td>\n",
              "      <td>7385000</td>\n",
              "      <td>Toyota</td>\n",
              "    </tr>\n",
              "  </tbody>\n",
              "</table>\n",
              "</div>\n",
              "      <button class=\"colab-df-convert\" onclick=\"convertToInteractive('df-bbba73fa-1575-4f37-9484-16749fc20e5b')\"\n",
              "              title=\"Convert this dataframe to an interactive table.\"\n",
              "              style=\"display:none;\">\n",
              "        \n",
              "  <svg xmlns=\"http://www.w3.org/2000/svg\" height=\"24px\"viewBox=\"0 0 24 24\"\n",
              "       width=\"24px\">\n",
              "    <path d=\"M0 0h24v24H0V0z\" fill=\"none\"/>\n",
              "    <path d=\"M18.56 5.44l.94 2.06.94-2.06 2.06-.94-2.06-.94-.94-2.06-.94 2.06-2.06.94zm-11 1L8.5 8.5l.94-2.06 2.06-.94-2.06-.94L8.5 2.5l-.94 2.06-2.06.94zm10 10l.94 2.06.94-2.06 2.06-.94-2.06-.94-.94-2.06-.94 2.06-2.06.94z\"/><path d=\"M17.41 7.96l-1.37-1.37c-.4-.4-.92-.59-1.43-.59-.52 0-1.04.2-1.43.59L10.3 9.45l-7.72 7.72c-.78.78-.78 2.05 0 2.83L4 21.41c.39.39.9.59 1.41.59.51 0 1.02-.2 1.41-.59l7.78-7.78 2.81-2.81c.8-.78.8-2.07 0-2.86zM5.41 20L4 18.59l7.72-7.72 1.47 1.35L5.41 20z\"/>\n",
              "  </svg>\n",
              "      </button>\n",
              "      \n",
              "  <style>\n",
              "    .colab-df-container {\n",
              "      display:flex;\n",
              "      flex-wrap:wrap;\n",
              "      gap: 12px;\n",
              "    }\n",
              "\n",
              "    .colab-df-convert {\n",
              "      background-color: #E8F0FE;\n",
              "      border: none;\n",
              "      border-radius: 50%;\n",
              "      cursor: pointer;\n",
              "      display: none;\n",
              "      fill: #1967D2;\n",
              "      height: 32px;\n",
              "      padding: 0 0 0 0;\n",
              "      width: 32px;\n",
              "    }\n",
              "\n",
              "    .colab-df-convert:hover {\n",
              "      background-color: #E2EBFA;\n",
              "      box-shadow: 0px 1px 2px rgba(60, 64, 67, 0.3), 0px 1px 3px 1px rgba(60, 64, 67, 0.15);\n",
              "      fill: #174EA6;\n",
              "    }\n",
              "\n",
              "    [theme=dark] .colab-df-convert {\n",
              "      background-color: #3B4455;\n",
              "      fill: #D2E3FC;\n",
              "    }\n",
              "\n",
              "    [theme=dark] .colab-df-convert:hover {\n",
              "      background-color: #434B5C;\n",
              "      box-shadow: 0px 1px 3px 1px rgba(0, 0, 0, 0.15);\n",
              "      filter: drop-shadow(0px 1px 2px rgba(0, 0, 0, 0.3));\n",
              "      fill: #FFFFFF;\n",
              "    }\n",
              "  </style>\n",
              "\n",
              "      <script>\n",
              "        const buttonEl =\n",
              "          document.querySelector('#df-bbba73fa-1575-4f37-9484-16749fc20e5b button.colab-df-convert');\n",
              "        buttonEl.style.display =\n",
              "          google.colab.kernel.accessAllowed ? 'block' : 'none';\n",
              "\n",
              "        async function convertToInteractive(key) {\n",
              "          const element = document.querySelector('#df-bbba73fa-1575-4f37-9484-16749fc20e5b');\n",
              "          const dataTable =\n",
              "            await google.colab.kernel.invokeFunction('convertToInteractive',\n",
              "                                                     [key], {});\n",
              "          if (!dataTable) return;\n",
              "\n",
              "          const docLinkHtml = 'Like what you see? Visit the ' +\n",
              "            '<a target=\"_blank\" href=https://colab.research.google.com/notebooks/data_table.ipynb>data table notebook</a>'\n",
              "            + ' to learn more about interactive tables.';\n",
              "          element.innerHTML = '';\n",
              "          dataTable['output_type'] = 'display_data';\n",
              "          await google.colab.output.renderOutput(dataTable, element);\n",
              "          const docLink = document.createElement('div');\n",
              "          docLink.innerHTML = docLinkHtml;\n",
              "          element.appendChild(docLink);\n",
              "        }\n",
              "      </script>\n",
              "    </div>\n",
              "  </div>\n",
              "  "
            ]
          },
          "metadata": {},
          "execution_count": 12
        }
      ]
    },
    {
      "cell_type": "code",
      "source": [
        "train['brand'].value_counts().head()"
      ],
      "metadata": {
        "colab": {
          "base_uri": "https://localhost:8080/"
        },
        "id": "q7ywNnZ9k1tY",
        "outputId": "e09aef00-ffdd-4d25-8b4d-7a5bcd87641f"
      },
      "execution_count": 13,
      "outputs": [
        {
          "output_type": "execute_result",
          "data": {
            "text/plain": [
              "Toyota           474\n",
              "Lexus            122\n",
              "Mercedes-Benz    105\n",
              "Honda             81\n",
              "Ford              36\n",
              "Name: brand, dtype: int64"
            ]
          },
          "metadata": {},
          "execution_count": 13
        }
      ]
    },
    {
      "cell_type": "code",
      "source": [
        "test['brand'] = test['title'].apply(lambda x: x.split(\" \")[0])\n",
        "test.head()"
      ],
      "metadata": {
        "colab": {
          "base_uri": "https://localhost:8080/",
          "height": 206
        },
        "id": "eZnJOliOrAVj",
        "outputId": "4fbd901f-5974-4373-fcd6-1825637d369c"
      },
      "execution_count": 14,
      "outputs": [
        {
          "output_type": "execute_result",
          "data": {
            "text/plain": [
              "   id                title  odometer location    isimported          engine  \\\n",
              "0   0  Mercedes-Benz C 300      1234    Abuja          New   4-cylinder(I4)   \n",
              "1   1         Honda Accord     29938    Abuja  Foreign Used  4-cylinder(I4)   \n",
              "2   2  Mercedes-Benz S 550     87501    Lagos  Foreign Used  4-cylinder(I4)   \n",
              "3   3        Toyota Sienna    180894    Lagos  Locally used  6-cylinder(V6)   \n",
              "4   4         Toyota Hiace    104814    Lagos  Foreign Used  4-cylinder(I4)   \n",
              "\n",
              "  transmission    fuel      paint  year          brand  \n",
              "0    automatic  petrol      White  2017  Mercedes-Benz  \n",
              "1    automatic  petrol      White  2013          Honda  \n",
              "2    automatic  petrol      Black  2012  Mercedes-Benz  \n",
              "3    automatic  petrol  Dark Grey  2001         Toyota  \n",
              "4    automatic  petrol      White  2000         Toyota  "
            ],
            "text/html": [
              "\n",
              "  <div id=\"df-c3745517-a53d-4c74-a744-4f22d607a584\">\n",
              "    <div class=\"colab-df-container\">\n",
              "      <div>\n",
              "<style scoped>\n",
              "    .dataframe tbody tr th:only-of-type {\n",
              "        vertical-align: middle;\n",
              "    }\n",
              "\n",
              "    .dataframe tbody tr th {\n",
              "        vertical-align: top;\n",
              "    }\n",
              "\n",
              "    .dataframe thead th {\n",
              "        text-align: right;\n",
              "    }\n",
              "</style>\n",
              "<table border=\"1\" class=\"dataframe\">\n",
              "  <thead>\n",
              "    <tr style=\"text-align: right;\">\n",
              "      <th></th>\n",
              "      <th>id</th>\n",
              "      <th>title</th>\n",
              "      <th>odometer</th>\n",
              "      <th>location</th>\n",
              "      <th>isimported</th>\n",
              "      <th>engine</th>\n",
              "      <th>transmission</th>\n",
              "      <th>fuel</th>\n",
              "      <th>paint</th>\n",
              "      <th>year</th>\n",
              "      <th>brand</th>\n",
              "    </tr>\n",
              "  </thead>\n",
              "  <tbody>\n",
              "    <tr>\n",
              "      <th>0</th>\n",
              "      <td>0</td>\n",
              "      <td>Mercedes-Benz C 300</td>\n",
              "      <td>1234</td>\n",
              "      <td>Abuja</td>\n",
              "      <td>New</td>\n",
              "      <td>4-cylinder(I4)</td>\n",
              "      <td>automatic</td>\n",
              "      <td>petrol</td>\n",
              "      <td>White</td>\n",
              "      <td>2017</td>\n",
              "      <td>Mercedes-Benz</td>\n",
              "    </tr>\n",
              "    <tr>\n",
              "      <th>1</th>\n",
              "      <td>1</td>\n",
              "      <td>Honda Accord</td>\n",
              "      <td>29938</td>\n",
              "      <td>Abuja</td>\n",
              "      <td>Foreign Used</td>\n",
              "      <td>4-cylinder(I4)</td>\n",
              "      <td>automatic</td>\n",
              "      <td>petrol</td>\n",
              "      <td>White</td>\n",
              "      <td>2013</td>\n",
              "      <td>Honda</td>\n",
              "    </tr>\n",
              "    <tr>\n",
              "      <th>2</th>\n",
              "      <td>2</td>\n",
              "      <td>Mercedes-Benz S 550</td>\n",
              "      <td>87501</td>\n",
              "      <td>Lagos</td>\n",
              "      <td>Foreign Used</td>\n",
              "      <td>4-cylinder(I4)</td>\n",
              "      <td>automatic</td>\n",
              "      <td>petrol</td>\n",
              "      <td>Black</td>\n",
              "      <td>2012</td>\n",
              "      <td>Mercedes-Benz</td>\n",
              "    </tr>\n",
              "    <tr>\n",
              "      <th>3</th>\n",
              "      <td>3</td>\n",
              "      <td>Toyota Sienna</td>\n",
              "      <td>180894</td>\n",
              "      <td>Lagos</td>\n",
              "      <td>Locally used</td>\n",
              "      <td>6-cylinder(V6)</td>\n",
              "      <td>automatic</td>\n",
              "      <td>petrol</td>\n",
              "      <td>Dark Grey</td>\n",
              "      <td>2001</td>\n",
              "      <td>Toyota</td>\n",
              "    </tr>\n",
              "    <tr>\n",
              "      <th>4</th>\n",
              "      <td>4</td>\n",
              "      <td>Toyota Hiace</td>\n",
              "      <td>104814</td>\n",
              "      <td>Lagos</td>\n",
              "      <td>Foreign Used</td>\n",
              "      <td>4-cylinder(I4)</td>\n",
              "      <td>automatic</td>\n",
              "      <td>petrol</td>\n",
              "      <td>White</td>\n",
              "      <td>2000</td>\n",
              "      <td>Toyota</td>\n",
              "    </tr>\n",
              "  </tbody>\n",
              "</table>\n",
              "</div>\n",
              "      <button class=\"colab-df-convert\" onclick=\"convertToInteractive('df-c3745517-a53d-4c74-a744-4f22d607a584')\"\n",
              "              title=\"Convert this dataframe to an interactive table.\"\n",
              "              style=\"display:none;\">\n",
              "        \n",
              "  <svg xmlns=\"http://www.w3.org/2000/svg\" height=\"24px\"viewBox=\"0 0 24 24\"\n",
              "       width=\"24px\">\n",
              "    <path d=\"M0 0h24v24H0V0z\" fill=\"none\"/>\n",
              "    <path d=\"M18.56 5.44l.94 2.06.94-2.06 2.06-.94-2.06-.94-.94-2.06-.94 2.06-2.06.94zm-11 1L8.5 8.5l.94-2.06 2.06-.94-2.06-.94L8.5 2.5l-.94 2.06-2.06.94zm10 10l.94 2.06.94-2.06 2.06-.94-2.06-.94-.94-2.06-.94 2.06-2.06.94z\"/><path d=\"M17.41 7.96l-1.37-1.37c-.4-.4-.92-.59-1.43-.59-.52 0-1.04.2-1.43.59L10.3 9.45l-7.72 7.72c-.78.78-.78 2.05 0 2.83L4 21.41c.39.39.9.59 1.41.59.51 0 1.02-.2 1.41-.59l7.78-7.78 2.81-2.81c.8-.78.8-2.07 0-2.86zM5.41 20L4 18.59l7.72-7.72 1.47 1.35L5.41 20z\"/>\n",
              "  </svg>\n",
              "      </button>\n",
              "      \n",
              "  <style>\n",
              "    .colab-df-container {\n",
              "      display:flex;\n",
              "      flex-wrap:wrap;\n",
              "      gap: 12px;\n",
              "    }\n",
              "\n",
              "    .colab-df-convert {\n",
              "      background-color: #E8F0FE;\n",
              "      border: none;\n",
              "      border-radius: 50%;\n",
              "      cursor: pointer;\n",
              "      display: none;\n",
              "      fill: #1967D2;\n",
              "      height: 32px;\n",
              "      padding: 0 0 0 0;\n",
              "      width: 32px;\n",
              "    }\n",
              "\n",
              "    .colab-df-convert:hover {\n",
              "      background-color: #E2EBFA;\n",
              "      box-shadow: 0px 1px 2px rgba(60, 64, 67, 0.3), 0px 1px 3px 1px rgba(60, 64, 67, 0.15);\n",
              "      fill: #174EA6;\n",
              "    }\n",
              "\n",
              "    [theme=dark] .colab-df-convert {\n",
              "      background-color: #3B4455;\n",
              "      fill: #D2E3FC;\n",
              "    }\n",
              "\n",
              "    [theme=dark] .colab-df-convert:hover {\n",
              "      background-color: #434B5C;\n",
              "      box-shadow: 0px 1px 3px 1px rgba(0, 0, 0, 0.15);\n",
              "      filter: drop-shadow(0px 1px 2px rgba(0, 0, 0, 0.3));\n",
              "      fill: #FFFFFF;\n",
              "    }\n",
              "  </style>\n",
              "\n",
              "      <script>\n",
              "        const buttonEl =\n",
              "          document.querySelector('#df-c3745517-a53d-4c74-a744-4f22d607a584 button.colab-df-convert');\n",
              "        buttonEl.style.display =\n",
              "          google.colab.kernel.accessAllowed ? 'block' : 'none';\n",
              "\n",
              "        async function convertToInteractive(key) {\n",
              "          const element = document.querySelector('#df-c3745517-a53d-4c74-a744-4f22d607a584');\n",
              "          const dataTable =\n",
              "            await google.colab.kernel.invokeFunction('convertToInteractive',\n",
              "                                                     [key], {});\n",
              "          if (!dataTable) return;\n",
              "\n",
              "          const docLinkHtml = 'Like what you see? Visit the ' +\n",
              "            '<a target=\"_blank\" href=https://colab.research.google.com/notebooks/data_table.ipynb>data table notebook</a>'\n",
              "            + ' to learn more about interactive tables.';\n",
              "          element.innerHTML = '';\n",
              "          dataTable['output_type'] = 'display_data';\n",
              "          await google.colab.output.renderOutput(dataTable, element);\n",
              "          const docLink = document.createElement('div');\n",
              "          docLink.innerHTML = docLinkHtml;\n",
              "          element.appendChild(docLink);\n",
              "        }\n",
              "      </script>\n",
              "    </div>\n",
              "  </div>\n",
              "  "
            ]
          },
          "metadata": {},
          "execution_count": 14
        }
      ]
    },
    {
      "cell_type": "markdown",
      "source": [
        "이제 location 컬럼을 살펴보도록 하겠습니다."
      ],
      "metadata": {
        "id": "eBxqQTBpka-y"
      }
    },
    {
      "cell_type": "code",
      "source": [
        "sorted(train.location.unique())"
      ],
      "metadata": {
        "colab": {
          "base_uri": "https://localhost:8080/"
        },
        "id": "SiEoQ-S19DzL",
        "outputId": "61eec529-3d6b-49ba-fd81-29dd0718893b"
      },
      "execution_count": 15,
      "outputs": [
        {
          "output_type": "execute_result",
          "data": {
            "text/plain": [
              "['Abia',\n",
              " 'Abia State',\n",
              " 'Abuja',\n",
              " 'Abuja ',\n",
              " 'Accra',\n",
              " 'Adamawa ',\n",
              " 'FCT',\n",
              " 'Lagos',\n",
              " 'Lagos ',\n",
              " 'Lagos State',\n",
              " 'Ogun',\n",
              " 'Ogun State',\n",
              " 'other']"
            ]
          },
          "metadata": {},
          "execution_count": 15
        }
      ]
    },
    {
      "cell_type": "code",
      "source": [
        "sorted(test.location.unique())"
      ],
      "metadata": {
        "colab": {
          "base_uri": "https://localhost:8080/"
        },
        "id": "m6k9heBs_8m2",
        "outputId": "2d59e1f3-bd00-446a-c7a6-f1f17dfaadec"
      },
      "execution_count": 16,
      "outputs": [
        {
          "output_type": "execute_result",
          "data": {
            "text/plain": [
              "['Abia',\n",
              " 'Abuja',\n",
              " 'Abuja ',\n",
              " 'Arepo ogun state ',\n",
              " 'Lagos',\n",
              " 'Lagos ',\n",
              " 'Lagos State',\n",
              " 'Mushin',\n",
              " 'Ogun',\n",
              " 'Ogun State',\n",
              " 'other']"
            ]
          },
          "metadata": {},
          "execution_count": 16
        }
      ]
    },
    {
      "cell_type": "markdown",
      "source": [
        "location의 경우, 뒤의 띄어쓰기가 삽입되어있거나 도시 뒤에 'State'를 붙인  변수가 있습니다. 이를 정리해주겠습니다."
      ],
      "metadata": {
        "id": "Vw43x1fNKRp2"
      }
    },
    {
      "cell_type": "code",
      "source": [
        "train = train.replace({\n",
        "    'Abia State' : 'Abia',\n",
        "    'Abuja ' : 'Abuja',\n",
        "    'Lagos ' : 'Lagos',\n",
        "    'Lagos State' : 'Lagos',\n",
        "    'Ogun State' : 'Ogun'\n",
        "    })"
      ],
      "metadata": {
        "id": "I5htvdMQKRWD"
      },
      "execution_count": 17,
      "outputs": []
    },
    {
      "cell_type": "code",
      "source": [
        "test = test.replace({\n",
        "    'Abuja ' : 'Abuja',\n",
        "    'Lagos ' : 'Lagos',\n",
        "    'Lagos State' : 'Lagos',\n",
        "    'Ogun State' : 'Ogun',\n",
        "    'Arepo ogun state ' : 'Ogun'\n",
        "    # Arepo is a populated place located in Ogun State, Nigeria. 출처. 위키백과\n",
        "})"
      ],
      "metadata": {
        "id": "ch61VAmSLvfv"
      },
      "execution_count": 18,
      "outputs": []
    },
    {
      "cell_type": "code",
      "source": [
        "sorted(train.location.unique())"
      ],
      "metadata": {
        "colab": {
          "base_uri": "https://localhost:8080/"
        },
        "id": "wQ-_ARZuLqnl",
        "outputId": "5ee05c5e-38ba-4520-ebed-38e3c1d8a83e"
      },
      "execution_count": 19,
      "outputs": [
        {
          "output_type": "execute_result",
          "data": {
            "text/plain": [
              "['Abia', 'Abuja', 'Accra', 'Adamawa ', 'FCT', 'Lagos', 'Ogun', 'other']"
            ]
          },
          "metadata": {},
          "execution_count": 19
        }
      ]
    },
    {
      "cell_type": "code",
      "source": [
        "sorted(test.location.unique())"
      ],
      "metadata": {
        "colab": {
          "base_uri": "https://localhost:8080/"
        },
        "id": "B9-9eX3VMrjy",
        "outputId": "4de1969a-41cb-49dd-8e8f-73896a57c2a7"
      },
      "execution_count": 20,
      "outputs": [
        {
          "output_type": "execute_result",
          "data": {
            "text/plain": [
              "['Abia', 'Abuja', 'Lagos', 'Mushin', 'Ogun', 'other']"
            ]
          },
          "metadata": {},
          "execution_count": 20
        }
      ]
    },
    {
      "cell_type": "markdown",
      "source": [
        "깔끔하게 정리가 되었습니다. Mushin 지역은 train 데이터에 없어 가격을 어떻게 예측할지 모르겠네요. 양쪽에 동시에 있지 않는 값들은 other로 통일해 주는 작업을 하면 더 좋은 성능을 낼 수 있을지 모르겠습니다.\n",
        "\n",
        "다음 컬럼들을 보겠습니다."
      ],
      "metadata": {
        "id": "wzRS2bHjbilc"
      }
    },
    {
      "cell_type": "code",
      "source": [
        "sorted(train.isimported.unique())"
      ],
      "metadata": {
        "colab": {
          "base_uri": "https://localhost:8080/"
        },
        "id": "0GIhXODT9UEQ",
        "outputId": "3a627343-cf27-4c5d-dbf3-a142cde49111"
      },
      "execution_count": 21,
      "outputs": [
        {
          "output_type": "execute_result",
          "data": {
            "text/plain": [
              "['Foreign Used', 'Locally used', 'New ']"
            ]
          },
          "metadata": {},
          "execution_count": 21
        }
      ]
    },
    {
      "cell_type": "code",
      "source": [
        "sorted(test.isimported.unique())"
      ],
      "metadata": {
        "colab": {
          "base_uri": "https://localhost:8080/"
        },
        "id": "KjaCmxUycfzk",
        "outputId": "8472cf64-4add-4324-a6d6-45ff3fd0c25a"
      },
      "execution_count": 22,
      "outputs": [
        {
          "output_type": "execute_result",
          "data": {
            "text/plain": [
              "['Foreign Used', 'Locally used', 'New ']"
            ]
          },
          "metadata": {},
          "execution_count": 22
        }
      ]
    },
    {
      "cell_type": "code",
      "source": [
        "sorted(train.engine.unique())"
      ],
      "metadata": {
        "colab": {
          "base_uri": "https://localhost:8080/"
        },
        "id": "W3zY3QAN-YLk",
        "outputId": "8af97612-18d3-43ce-be64-1ffb49c5dadf"
      },
      "execution_count": 23,
      "outputs": [
        {
          "output_type": "execute_result",
          "data": {
            "text/plain": [
              "['2-cylinder(I2)',\n",
              " '3-cylinder(I3)',\n",
              " '4-cylinder(H4)',\n",
              " '4-cylinder(I4)',\n",
              " '5-cylinder(I5)',\n",
              " '6-cylinder(I6)',\n",
              " '6-cylinder(V6)',\n",
              " '8-cylinder(V8)']"
            ]
          },
          "metadata": {},
          "execution_count": 23
        }
      ]
    },
    {
      "cell_type": "code",
      "source": [
        "sorted(test.engine.unique())"
      ],
      "metadata": {
        "colab": {
          "base_uri": "https://localhost:8080/"
        },
        "id": "oNbz3UTQcj2h",
        "outputId": "fd824f02-5cba-4d10-ce91-05f01c370f04"
      },
      "execution_count": 24,
      "outputs": [
        {
          "output_type": "execute_result",
          "data": {
            "text/plain": [
              "['12-cylinder(V12)',\n",
              " '2-cylinder(I2)',\n",
              " '3-cylinder(I3)',\n",
              " '4-cylinder(I4)',\n",
              " '5-cylinder(I5)',\n",
              " '6-cylinder(I6)',\n",
              " '6-cylinder(V6)',\n",
              " '8-cylinder(V8)']"
            ]
          },
          "metadata": {},
          "execution_count": 24
        }
      ]
    },
    {
      "cell_type": "markdown",
      "source": [
        "test 데이터셋에서 train 데이터에 없던 '12-cylinder(V12)' 변수가 있습니다. 왠지 실린더가 많으니 가격이 비쌀거 같기도 합니다. test 데이터세트에만 있어 어떻게 처리해야 할 지 조금 더 연구를 해봐야할 것 같습니다."
      ],
      "metadata": {
        "id": "iuHmEWueczlD"
      }
    },
    {
      "cell_type": "code",
      "source": [
        "train.transmission.unique()"
      ],
      "metadata": {
        "colab": {
          "base_uri": "https://localhost:8080/"
        },
        "id": "IxLkPRDf-aBB",
        "outputId": "84259c87-08bc-43f2-d6da-8488f7f29fc8"
      },
      "execution_count": 25,
      "outputs": [
        {
          "output_type": "execute_result",
          "data": {
            "text/plain": [
              "array(['automatic', 'manual'], dtype=object)"
            ]
          },
          "metadata": {},
          "execution_count": 25
        }
      ]
    },
    {
      "cell_type": "code",
      "source": [
        "test.transmission.unique()"
      ],
      "metadata": {
        "colab": {
          "base_uri": "https://localhost:8080/"
        },
        "id": "PpGy1CvldDyN",
        "outputId": "032aa9ed-ce65-483e-edbf-99156ab95a17"
      },
      "execution_count": 26,
      "outputs": [
        {
          "output_type": "execute_result",
          "data": {
            "text/plain": [
              "array(['automatic', 'manual'], dtype=object)"
            ]
          },
          "metadata": {},
          "execution_count": 26
        }
      ]
    },
    {
      "cell_type": "code",
      "source": [
        "train.fuel.unique()"
      ],
      "metadata": {
        "colab": {
          "base_uri": "https://localhost:8080/"
        },
        "id": "-S4261ve-ciP",
        "outputId": "88082513-bad4-4be2-cce8-444b9e223db7"
      },
      "execution_count": 27,
      "outputs": [
        {
          "output_type": "execute_result",
          "data": {
            "text/plain": [
              "array(['petrol', 'diesel'], dtype=object)"
            ]
          },
          "metadata": {},
          "execution_count": 27
        }
      ]
    },
    {
      "cell_type": "code",
      "source": [
        "test.fuel.unique()"
      ],
      "metadata": {
        "colab": {
          "base_uri": "https://localhost:8080/"
        },
        "id": "IBN06A-ndF86",
        "outputId": "31b60259-fc67-4094-a268-767a5ede42bb"
      },
      "execution_count": 28,
      "outputs": [
        {
          "output_type": "execute_result",
          "data": {
            "text/plain": [
              "array(['petrol', 'diesel'], dtype=object)"
            ]
          },
          "metadata": {},
          "execution_count": 28
        }
      ]
    },
    {
      "cell_type": "markdown",
      "source": [
        "4개의 컬럼들은 손댈 필요가 없는듯 합니다. 그대로 라벨 인코딩을 하면 될 것 같습니다.\n",
        "\n",
        "색상은 조금 손을 봐야 할 것 같습니다. Baseline EDA에서 제 생각과 같아 코드를 그대로 쓰도록 하겠습니다."
      ],
      "metadata": {
        "id": "uGfNy33Gbowh"
      }
    },
    {
      "cell_type": "code",
      "source": [
        "sorted(train.paint.unique())"
      ],
      "metadata": {
        "colab": {
          "base_uri": "https://localhost:8080/"
        },
        "id": "Fd4SxMs4-fVe",
        "outputId": "53cd02f6-4f92-4666-b35e-9e16d3f0581a"
      },
      "execution_count": 29,
      "outputs": [
        {
          "output_type": "execute_result",
          "data": {
            "text/plain": [
              "[' Black',\n",
              " ' Black/Red',\n",
              " 'Ash',\n",
              " 'Ash and black',\n",
              " 'BLACK',\n",
              " 'Beige',\n",
              " 'Black',\n",
              " 'Black ',\n",
              " 'Black and silver',\n",
              " 'Black sand pearl',\n",
              " 'Black.',\n",
              " 'Blue',\n",
              " 'Blue ',\n",
              " 'Brown',\n",
              " 'Cream',\n",
              " 'Cream ',\n",
              " 'DARK GREY',\n",
              " 'Dark Ash',\n",
              " 'Dark Blue',\n",
              " 'Dark Green',\n",
              " 'Dark Grey',\n",
              " 'Dark ash',\n",
              " 'Dark blue ',\n",
              " 'Dark gray',\n",
              " 'Dark silver ',\n",
              " 'Deep Blue',\n",
              " 'Deep blue',\n",
              " 'GOLD',\n",
              " 'Gery',\n",
              " 'Gold',\n",
              " 'Gold ',\n",
              " 'Gray',\n",
              " 'Gray ',\n",
              " 'Green',\n",
              " 'Green ',\n",
              " 'Grey',\n",
              " 'Grey ',\n",
              " 'Ink blue',\n",
              " 'Light Gold',\n",
              " 'Light blue',\n",
              " 'Light silver ',\n",
              " 'Magnetic Gray',\n",
              " 'Magnetic Gray Metallic',\n",
              " 'Maroon',\n",
              " 'Midnight Black Metal',\n",
              " 'Milk',\n",
              " 'Navy blue',\n",
              " 'Off white',\n",
              " 'Off white l',\n",
              " 'Pale brown',\n",
              " 'Purple',\n",
              " 'Red',\n",
              " 'Redl',\n",
              " 'SILVER',\n",
              " 'Silver',\n",
              " 'Silver ',\n",
              " 'Silver/grey',\n",
              " 'Sky blue',\n",
              " 'Skye blue',\n",
              " 'Sliver',\n",
              " 'Super White',\n",
              " 'WHITE',\n",
              " 'WINE',\n",
              " 'Whine ',\n",
              " 'White',\n",
              " 'White ',\n",
              " 'White orchild pearl',\n",
              " 'Wine',\n",
              " 'Yellow',\n",
              " 'blue',\n",
              " 'green',\n",
              " 'orange',\n",
              " 'red',\n",
              " 'white',\n",
              " 'white-blue',\n",
              " 'yellow']"
            ]
          },
          "metadata": {},
          "execution_count": 29
        }
      ]
    },
    {
      "cell_type": "code",
      "source": [
        "import re \n",
        "\n",
        "def clean_text(texts): \n",
        "    corpus = [] \n",
        "    for i in range(0, len(texts)): \n",
        "        review = re.sub(r'[@%\\\\*=()/~#&\\+á?\\xc3\\xa1\\-\\|\\.\\:\\;\\!\\-\\,\\_\\~\\$\\'\\\"\\n\\]\\[\\>\\<]', '',texts[i]) #@%*=()/+ 와 같은 문장부호 제거\n",
        "        review = re.sub(r'\\d+','',review)#숫자 제거\n",
        "        review = review.lower() #소문자 변환\n",
        "        review = re.sub(r'\\s+', ' ', review) #extra space 제거\n",
        "        review = re.sub(r'<[^>]+>','',review) #Html tags 제거\n",
        "        review = re.sub(r'\\s+', ' ', review) #spaces 제거\n",
        "        review = re.sub(r\"^\\s+\", '', review) #space from start 제거\n",
        "        review = re.sub(r'\\s+$', '', review) #space from the end 제거\n",
        "        review = re.sub(r'_', ' ', review) #space from the end 제거\n",
        "        #review = re.sub(r'l', '', review)\n",
        "        corpus.append(review) \n",
        "        \n",
        "    return corpus\n",
        "\n",
        "temp = clean_text(train['paint']) #메소드 적용\n",
        "train['paint'] = temp\n",
        "print('train data에서 paint의 unique 카테고리 개수 : ', len(train['paint'].unique()))"
      ],
      "metadata": {
        "colab": {
          "base_uri": "https://localhost:8080/"
        },
        "id": "iHEyjpHTdXAe",
        "outputId": "4104eaf7-6925-4936-e7fc-04bbbe10dc65"
      },
      "execution_count": 30,
      "outputs": [
        {
          "output_type": "stream",
          "name": "stdout",
          "text": [
            "train data에서 paint의 unique 카테고리 개수 :  51\n"
          ]
        }
      ]
    },
    {
      "cell_type": "code",
      "source": [
        "train['paint'] = train['paint'] = train['paint'].apply(lambda x : 'blue' if x.find('blue') >= 0 else x)\n",
        "train['paint'] = train['paint'] = train['paint'].apply(lambda x : 'red' if x.find('red') >= 0 else x)\n",
        "train['paint'] = train['paint'] = train['paint'].apply(lambda x : 'green' if x.find('green') >= 0 else x)\n",
        "train['paint'] = train['paint'] = train['paint'].apply(lambda x : 'white' if x.find('white') >= 0 else x)\n",
        "train['paint'] = train['paint'] = train['paint'].apply(lambda x : 'grey' if x.find('grey') >= 0 else x)\n",
        "train['paint'] = train['paint'] = train['paint'].apply(lambda x : 'grey' if x.find('gery') >= 0 else x)\n",
        "train['paint'] = train['paint'] = train['paint'].apply(lambda x : 'grey' if x.find('gray') >= 0 else x)\n",
        "train['paint'] = train['paint'] = train['paint'].apply(lambda x : 'ash' if x.find('ash') >= 0 else x)\n",
        "train['paint'] = train['paint'] = train['paint'].apply(lambda x : 'brown' if x.find('brown') >= 0 else x)\n",
        "train['paint'] = train['paint'] = train['paint'].apply(lambda x : 'silver' if x.find('silver') >= 0 else x)\n",
        "train['paint'] = train['paint'] = train['paint'].apply(lambda x : 'silver' if x.find('sliver') >= 0 else x)\n",
        "train['paint'] = train['paint'] = train['paint'].apply(lambda x : 'black' if x.find('black') >= 0 else x)\n",
        "train['paint'] = train['paint'] = train['paint'].apply(lambda x : 'gold' if x.find('gold') >= 0 else x)\n",
        "train['paint'] = train['paint'] = train['paint'].apply(lambda x : 'wine' if x.find('whine') >= 0 else x)"
      ],
      "metadata": {
        "id": "YdPQba1rduD3"
      },
      "execution_count": 31,
      "outputs": []
    },
    {
      "cell_type": "code",
      "source": [
        "print('train data에서 paint의 unique 카테고리 개수 : ', len(train['paint'].value_counts()))"
      ],
      "metadata": {
        "colab": {
          "base_uri": "https://localhost:8080/"
        },
        "id": "15PEEGKndyNU",
        "outputId": "82b2366c-c54d-44a0-9e5d-3e360ca62e9f"
      },
      "execution_count": 32,
      "outputs": [
        {
          "output_type": "stream",
          "name": "stdout",
          "text": [
            "train data에서 paint의 unique 카테고리 개수 :  18\n"
          ]
        }
      ]
    },
    {
      "cell_type": "code",
      "source": [
        "temp2 = clean_text(test['paint'])\n",
        "test['paint'] = temp2\n",
        "print('test data에서 paint의 unique 카테고리 개수 : ', len(test['paint'].unique()))"
      ],
      "metadata": {
        "colab": {
          "base_uri": "https://localhost:8080/"
        },
        "id": "DrRPVYNVtCVp",
        "outputId": "1bae478f-3cea-40f1-a3b2-0bf9c9e8d5fd"
      },
      "execution_count": 33,
      "outputs": [
        {
          "output_type": "stream",
          "name": "stdout",
          "text": [
            "test data에서 paint의 unique 카테고리 개수 :  30\n"
          ]
        }
      ]
    },
    {
      "cell_type": "code",
      "source": [
        "test['paint'] = test['paint'] = test['paint'].apply(lambda x : 'blue' if x.find('blue') >= 0 else x)\n",
        "test['paint'] = test['paint'] = test['paint'].apply(lambda x : 'red' if x.find('red') >= 0 else x)\n",
        "test['paint'] = test['paint'] = test['paint'].apply(lambda x : 'green' if x.find('green') >= 0 else x)\n",
        "test['paint'] = test['paint'] = test['paint'].apply(lambda x : 'white' if x.find('white') >= 0 else x)\n",
        "test['paint'] = test['paint'] = test['paint'].apply(lambda x : 'grey' if x.find('grey') >= 0 else x)\n",
        "test['paint'] = test['paint'] = test['paint'].apply(lambda x : 'grey' if x.find('gery') >= 0 else x)\n",
        "test['paint'] = test['paint'] = test['paint'].apply(lambda x : 'grey' if x.find('gray') >= 0 else x)\n",
        "test['paint'] = test['paint'] = test['paint'].apply(lambda x : 'ash' if x.find('ash') >= 0 else x)\n",
        "test['paint'] = test['paint'] = test['paint'].apply(lambda x : 'brown' if x.find('brown') >= 0 else x)\n",
        "test['paint'] = test['paint'] = test['paint'].apply(lambda x : 'silver' if x.find('silver') >= 0 else x)\n",
        "test['paint'] = test['paint'] = test['paint'].apply(lambda x : 'silver' if x.find('sliver') >= 0 else x)\n",
        "test['paint'] = test['paint'] = test['paint'].apply(lambda x : 'black' if x.find('black') >= 0 else x)\n",
        "test['paint'] = test['paint'] = test['paint'].apply(lambda x : 'gold' if x.find('gold') >= 0 else x)\n",
        "test['paint'] = test['paint'] = test['paint'].apply(lambda x : 'wine' if x.find('whine') >= 0 else x)"
      ],
      "metadata": {
        "id": "3Onjf5zdtoMK"
      },
      "execution_count": 34,
      "outputs": []
    },
    {
      "cell_type": "code",
      "source": [
        "print('test data에서 paint의 unique 카테고리 개수 : ', len(test['paint'].value_counts()))"
      ],
      "metadata": {
        "colab": {
          "base_uri": "https://localhost:8080/"
        },
        "id": "bCqpsO4LuIYo",
        "outputId": "b53ae14d-b1e0-448d-fb0e-72aa23fe102f"
      },
      "execution_count": 35,
      "outputs": [
        {
          "output_type": "stream",
          "name": "stdout",
          "text": [
            "test data에서 paint의 unique 카테고리 개수 :  18\n"
          ]
        }
      ]
    },
    {
      "cell_type": "markdown",
      "source": [
        "다음은 year항목을 수정하도록 하겠습니다."
      ],
      "metadata": {
        "id": "vvjxMcRld-Gv"
      }
    },
    {
      "cell_type": "code",
      "source": [
        "sorted(train.year.unique())"
      ],
      "metadata": {
        "colab": {
          "base_uri": "https://localhost:8080/"
        },
        "id": "bTsFVpPv-g0F",
        "outputId": "e5990eac-8ca9-4c91-98b0-fddc24a5f14b"
      },
      "execution_count": 36,
      "outputs": [
        {
          "output_type": "execute_result",
          "data": {
            "text/plain": [
              "[1217,\n",
              " 1218,\n",
              " 1980,\n",
              " 1982,\n",
              " 1985,\n",
              " 1991,\n",
              " 1994,\n",
              " 1995,\n",
              " 1996,\n",
              " 1997,\n",
              " 1998,\n",
              " 1999,\n",
              " 2000,\n",
              " 2001,\n",
              " 2002,\n",
              " 2003,\n",
              " 2004,\n",
              " 2005,\n",
              " 2006,\n",
              " 2007,\n",
              " 2008,\n",
              " 2009,\n",
              " 2010,\n",
              " 2011,\n",
              " 2012,\n",
              " 2013,\n",
              " 2014,\n",
              " 2015,\n",
              " 2016,\n",
              " 2017,\n",
              " 2018,\n",
              " 2019,\n",
              " 2020]"
            ]
          },
          "metadata": {},
          "execution_count": 36
        }
      ]
    },
    {
      "cell_type": "code",
      "source": [
        "sorted(test.year.unique())"
      ],
      "metadata": {
        "colab": {
          "base_uri": "https://localhost:8080/"
        },
        "id": "WJo_yTXid26H",
        "outputId": "4da5b2f4-8cf8-41d9-e130-5bc785a5fd88"
      },
      "execution_count": 37,
      "outputs": [
        {
          "output_type": "execute_result",
          "data": {
            "text/plain": [
              "[1324,\n",
              " 1726,\n",
              " 1987,\n",
              " 1993,\n",
              " 1994,\n",
              " 1996,\n",
              " 1997,\n",
              " 1998,\n",
              " 1999,\n",
              " 2000,\n",
              " 2001,\n",
              " 2002,\n",
              " 2003,\n",
              " 2004,\n",
              " 2005,\n",
              " 2006,\n",
              " 2007,\n",
              " 2008,\n",
              " 2009,\n",
              " 2010,\n",
              " 2011,\n",
              " 2012,\n",
              " 2013,\n",
              " 2014,\n",
              " 2015,\n",
              " 2016,\n",
              " 2017,\n",
              " 2018,\n",
              " 2019,\n",
              " 2020,\n",
              " 2626]"
            ]
          },
          "metadata": {},
          "execution_count": 37
        }
      ]
    },
    {
      "cell_type": "markdown",
      "source": [
        "train 데이터에는 1217년, 1218년 자동차가, test 데이터에는 1324년, 1726년 자동차도 있네요. 저때는 무슨 엔진일까 궁금합니다. 2626년 자동차도 벌써 중고차로 나와있네요. 딜러분께서 영업을 엄청 잘하시는 것 같습니다. 무슨 차인지 보겠습니다."
      ],
      "metadata": {
        "id": "_x2rrXtTfN2P"
      }
    },
    {
      "cell_type": "code",
      "source": [
        "train[(train.year == 1217) | (train.year == 1218)]"
      ],
      "metadata": {
        "colab": {
          "base_uri": "https://localhost:8080/",
          "height": 112
        },
        "id": "TbTqjJog-jAQ",
        "outputId": "686e84cf-9cf2-4670-c363-9812f3684c7c"
      },
      "execution_count": 38,
      "outputs": [
        {
          "output_type": "execute_result",
          "data": {
            "text/plain": [
              "      id                title  odometer location    isimported  \\\n",
              "415  415  Mercedes-Benz ATEGO    403461    Lagos  Locally used   \n",
              "827  827     Mercedes-Benz/52    510053    Lagos  Locally used   \n",
              "\n",
              "             engine transmission    fuel  paint  year    target  \\\n",
              "415  4-cylinder(I4)       manual  diesel  white  1218   6015000   \n",
              "827  6-cylinder(V6)       manual  diesel  white  1217  75015000   \n",
              "\n",
              "                brand  \n",
              "415     Mercedes-Benz  \n",
              "827  Mercedes-Benz/52  "
            ],
            "text/html": [
              "\n",
              "  <div id=\"df-a8ac5030-7f3b-479d-b806-50a3b0f918b6\">\n",
              "    <div class=\"colab-df-container\">\n",
              "      <div>\n",
              "<style scoped>\n",
              "    .dataframe tbody tr th:only-of-type {\n",
              "        vertical-align: middle;\n",
              "    }\n",
              "\n",
              "    .dataframe tbody tr th {\n",
              "        vertical-align: top;\n",
              "    }\n",
              "\n",
              "    .dataframe thead th {\n",
              "        text-align: right;\n",
              "    }\n",
              "</style>\n",
              "<table border=\"1\" class=\"dataframe\">\n",
              "  <thead>\n",
              "    <tr style=\"text-align: right;\">\n",
              "      <th></th>\n",
              "      <th>id</th>\n",
              "      <th>title</th>\n",
              "      <th>odometer</th>\n",
              "      <th>location</th>\n",
              "      <th>isimported</th>\n",
              "      <th>engine</th>\n",
              "      <th>transmission</th>\n",
              "      <th>fuel</th>\n",
              "      <th>paint</th>\n",
              "      <th>year</th>\n",
              "      <th>target</th>\n",
              "      <th>brand</th>\n",
              "    </tr>\n",
              "  </thead>\n",
              "  <tbody>\n",
              "    <tr>\n",
              "      <th>415</th>\n",
              "      <td>415</td>\n",
              "      <td>Mercedes-Benz ATEGO</td>\n",
              "      <td>403461</td>\n",
              "      <td>Lagos</td>\n",
              "      <td>Locally used</td>\n",
              "      <td>4-cylinder(I4)</td>\n",
              "      <td>manual</td>\n",
              "      <td>diesel</td>\n",
              "      <td>white</td>\n",
              "      <td>1218</td>\n",
              "      <td>6015000</td>\n",
              "      <td>Mercedes-Benz</td>\n",
              "    </tr>\n",
              "    <tr>\n",
              "      <th>827</th>\n",
              "      <td>827</td>\n",
              "      <td>Mercedes-Benz/52</td>\n",
              "      <td>510053</td>\n",
              "      <td>Lagos</td>\n",
              "      <td>Locally used</td>\n",
              "      <td>6-cylinder(V6)</td>\n",
              "      <td>manual</td>\n",
              "      <td>diesel</td>\n",
              "      <td>white</td>\n",
              "      <td>1217</td>\n",
              "      <td>75015000</td>\n",
              "      <td>Mercedes-Benz/52</td>\n",
              "    </tr>\n",
              "  </tbody>\n",
              "</table>\n",
              "</div>\n",
              "      <button class=\"colab-df-convert\" onclick=\"convertToInteractive('df-a8ac5030-7f3b-479d-b806-50a3b0f918b6')\"\n",
              "              title=\"Convert this dataframe to an interactive table.\"\n",
              "              style=\"display:none;\">\n",
              "        \n",
              "  <svg xmlns=\"http://www.w3.org/2000/svg\" height=\"24px\"viewBox=\"0 0 24 24\"\n",
              "       width=\"24px\">\n",
              "    <path d=\"M0 0h24v24H0V0z\" fill=\"none\"/>\n",
              "    <path d=\"M18.56 5.44l.94 2.06.94-2.06 2.06-.94-2.06-.94-.94-2.06-.94 2.06-2.06.94zm-11 1L8.5 8.5l.94-2.06 2.06-.94-2.06-.94L8.5 2.5l-.94 2.06-2.06.94zm10 10l.94 2.06.94-2.06 2.06-.94-2.06-.94-.94-2.06-.94 2.06-2.06.94z\"/><path d=\"M17.41 7.96l-1.37-1.37c-.4-.4-.92-.59-1.43-.59-.52 0-1.04.2-1.43.59L10.3 9.45l-7.72 7.72c-.78.78-.78 2.05 0 2.83L4 21.41c.39.39.9.59 1.41.59.51 0 1.02-.2 1.41-.59l7.78-7.78 2.81-2.81c.8-.78.8-2.07 0-2.86zM5.41 20L4 18.59l7.72-7.72 1.47 1.35L5.41 20z\"/>\n",
              "  </svg>\n",
              "      </button>\n",
              "      \n",
              "  <style>\n",
              "    .colab-df-container {\n",
              "      display:flex;\n",
              "      flex-wrap:wrap;\n",
              "      gap: 12px;\n",
              "    }\n",
              "\n",
              "    .colab-df-convert {\n",
              "      background-color: #E8F0FE;\n",
              "      border: none;\n",
              "      border-radius: 50%;\n",
              "      cursor: pointer;\n",
              "      display: none;\n",
              "      fill: #1967D2;\n",
              "      height: 32px;\n",
              "      padding: 0 0 0 0;\n",
              "      width: 32px;\n",
              "    }\n",
              "\n",
              "    .colab-df-convert:hover {\n",
              "      background-color: #E2EBFA;\n",
              "      box-shadow: 0px 1px 2px rgba(60, 64, 67, 0.3), 0px 1px 3px 1px rgba(60, 64, 67, 0.15);\n",
              "      fill: #174EA6;\n",
              "    }\n",
              "\n",
              "    [theme=dark] .colab-df-convert {\n",
              "      background-color: #3B4455;\n",
              "      fill: #D2E3FC;\n",
              "    }\n",
              "\n",
              "    [theme=dark] .colab-df-convert:hover {\n",
              "      background-color: #434B5C;\n",
              "      box-shadow: 0px 1px 3px 1px rgba(0, 0, 0, 0.15);\n",
              "      filter: drop-shadow(0px 1px 2px rgba(0, 0, 0, 0.3));\n",
              "      fill: #FFFFFF;\n",
              "    }\n",
              "  </style>\n",
              "\n",
              "      <script>\n",
              "        const buttonEl =\n",
              "          document.querySelector('#df-a8ac5030-7f3b-479d-b806-50a3b0f918b6 button.colab-df-convert');\n",
              "        buttonEl.style.display =\n",
              "          google.colab.kernel.accessAllowed ? 'block' : 'none';\n",
              "\n",
              "        async function convertToInteractive(key) {\n",
              "          const element = document.querySelector('#df-a8ac5030-7f3b-479d-b806-50a3b0f918b6');\n",
              "          const dataTable =\n",
              "            await google.colab.kernel.invokeFunction('convertToInteractive',\n",
              "                                                     [key], {});\n",
              "          if (!dataTable) return;\n",
              "\n",
              "          const docLinkHtml = 'Like what you see? Visit the ' +\n",
              "            '<a target=\"_blank\" href=https://colab.research.google.com/notebooks/data_table.ipynb>data table notebook</a>'\n",
              "            + ' to learn more about interactive tables.';\n",
              "          element.innerHTML = '';\n",
              "          dataTable['output_type'] = 'display_data';\n",
              "          await google.colab.output.renderOutput(dataTable, element);\n",
              "          const docLink = document.createElement('div');\n",
              "          docLink.innerHTML = docLinkHtml;\n",
              "          element.appendChild(docLink);\n",
              "        }\n",
              "      </script>\n",
              "    </div>\n",
              "  </div>\n",
              "  "
            ]
          },
          "metadata": {},
          "execution_count": 38
        }
      ]
    },
    {
      "cell_type": "markdown",
      "source": [
        "1218년에 생산된 Mercedes-Benz ATEGO는 트럭이었네요. 1217년에 생산된 Mercedes-Benz/52는 구글에 검색해보니 엔진오일이 가장 비슷한 검색결과로 나옵니다. 두 종류의 차량은 test에 없으니 Baseline 코드를 사용해서 삭제하도록 하겠습니다."
      ],
      "metadata": {
        "id": "Z1OurkYygHu2"
      }
    },
    {
      "cell_type": "code",
      "source": [
        "train = train[train['year'] > 1900]"
      ],
      "metadata": {
        "id": "NufDqG10fuZt"
      },
      "execution_count": 39,
      "outputs": []
    },
    {
      "cell_type": "markdown",
      "source": [
        "test데이터에도 비정상적인 연도가 있어 살펴보도록 하겠습니다"
      ],
      "metadata": {
        "id": "Ozg7v0k_hIsq"
      }
    },
    {
      "cell_type": "code",
      "source": [
        "test[(test.year == 1324) | (test.year == 1726) | (test.year == 2626)]"
      ],
      "metadata": {
        "colab": {
          "base_uri": "https://localhost:8080/",
          "height": 143
        },
        "id": "h5pXJAhNhZnC",
        "outputId": "acef6fa2-96b1-4dd9-f084-f4015a8b6bef"
      },
      "execution_count": 40,
      "outputs": [
        {
          "output_type": "execute_result",
          "data": {
            "text/plain": [
              "      id                                  title  odometer location  \\\n",
              "304  304  Mercedes-Benz CABIN PLUS CHASSIS ONLY    650923    Lagos   \n",
              "406  406               Mercedes-Benz DUMP TRUCK         0    Lagos   \n",
              "411  411             Mercedes-Benz WATER TANKER    701934    Lagos   \n",
              "\n",
              "       isimported          engine transmission    fuel  paint  year  \\\n",
              "304  Locally used  6-cylinder(V6)       manual  diesel   blue  1324   \n",
              "406  Locally used  8-cylinder(V8)       manual  diesel  white  2626   \n",
              "411  Locally used  8-cylinder(V8)       manual  diesel  white  1726   \n",
              "\n",
              "             brand  \n",
              "304  Mercedes-Benz  \n",
              "406  Mercedes-Benz  \n",
              "411  Mercedes-Benz  "
            ],
            "text/html": [
              "\n",
              "  <div id=\"df-d6087791-cbc9-4df1-829d-542e9312b7da\">\n",
              "    <div class=\"colab-df-container\">\n",
              "      <div>\n",
              "<style scoped>\n",
              "    .dataframe tbody tr th:only-of-type {\n",
              "        vertical-align: middle;\n",
              "    }\n",
              "\n",
              "    .dataframe tbody tr th {\n",
              "        vertical-align: top;\n",
              "    }\n",
              "\n",
              "    .dataframe thead th {\n",
              "        text-align: right;\n",
              "    }\n",
              "</style>\n",
              "<table border=\"1\" class=\"dataframe\">\n",
              "  <thead>\n",
              "    <tr style=\"text-align: right;\">\n",
              "      <th></th>\n",
              "      <th>id</th>\n",
              "      <th>title</th>\n",
              "      <th>odometer</th>\n",
              "      <th>location</th>\n",
              "      <th>isimported</th>\n",
              "      <th>engine</th>\n",
              "      <th>transmission</th>\n",
              "      <th>fuel</th>\n",
              "      <th>paint</th>\n",
              "      <th>year</th>\n",
              "      <th>brand</th>\n",
              "    </tr>\n",
              "  </thead>\n",
              "  <tbody>\n",
              "    <tr>\n",
              "      <th>304</th>\n",
              "      <td>304</td>\n",
              "      <td>Mercedes-Benz CABIN PLUS CHASSIS ONLY</td>\n",
              "      <td>650923</td>\n",
              "      <td>Lagos</td>\n",
              "      <td>Locally used</td>\n",
              "      <td>6-cylinder(V6)</td>\n",
              "      <td>manual</td>\n",
              "      <td>diesel</td>\n",
              "      <td>blue</td>\n",
              "      <td>1324</td>\n",
              "      <td>Mercedes-Benz</td>\n",
              "    </tr>\n",
              "    <tr>\n",
              "      <th>406</th>\n",
              "      <td>406</td>\n",
              "      <td>Mercedes-Benz DUMP TRUCK</td>\n",
              "      <td>0</td>\n",
              "      <td>Lagos</td>\n",
              "      <td>Locally used</td>\n",
              "      <td>8-cylinder(V8)</td>\n",
              "      <td>manual</td>\n",
              "      <td>diesel</td>\n",
              "      <td>white</td>\n",
              "      <td>2626</td>\n",
              "      <td>Mercedes-Benz</td>\n",
              "    </tr>\n",
              "    <tr>\n",
              "      <th>411</th>\n",
              "      <td>411</td>\n",
              "      <td>Mercedes-Benz WATER TANKER</td>\n",
              "      <td>701934</td>\n",
              "      <td>Lagos</td>\n",
              "      <td>Locally used</td>\n",
              "      <td>8-cylinder(V8)</td>\n",
              "      <td>manual</td>\n",
              "      <td>diesel</td>\n",
              "      <td>white</td>\n",
              "      <td>1726</td>\n",
              "      <td>Mercedes-Benz</td>\n",
              "    </tr>\n",
              "  </tbody>\n",
              "</table>\n",
              "</div>\n",
              "      <button class=\"colab-df-convert\" onclick=\"convertToInteractive('df-d6087791-cbc9-4df1-829d-542e9312b7da')\"\n",
              "              title=\"Convert this dataframe to an interactive table.\"\n",
              "              style=\"display:none;\">\n",
              "        \n",
              "  <svg xmlns=\"http://www.w3.org/2000/svg\" height=\"24px\"viewBox=\"0 0 24 24\"\n",
              "       width=\"24px\">\n",
              "    <path d=\"M0 0h24v24H0V0z\" fill=\"none\"/>\n",
              "    <path d=\"M18.56 5.44l.94 2.06.94-2.06 2.06-.94-2.06-.94-.94-2.06-.94 2.06-2.06.94zm-11 1L8.5 8.5l.94-2.06 2.06-.94-2.06-.94L8.5 2.5l-.94 2.06-2.06.94zm10 10l.94 2.06.94-2.06 2.06-.94-2.06-.94-.94-2.06-.94 2.06-2.06.94z\"/><path d=\"M17.41 7.96l-1.37-1.37c-.4-.4-.92-.59-1.43-.59-.52 0-1.04.2-1.43.59L10.3 9.45l-7.72 7.72c-.78.78-.78 2.05 0 2.83L4 21.41c.39.39.9.59 1.41.59.51 0 1.02-.2 1.41-.59l7.78-7.78 2.81-2.81c.8-.78.8-2.07 0-2.86zM5.41 20L4 18.59l7.72-7.72 1.47 1.35L5.41 20z\"/>\n",
              "  </svg>\n",
              "      </button>\n",
              "      \n",
              "  <style>\n",
              "    .colab-df-container {\n",
              "      display:flex;\n",
              "      flex-wrap:wrap;\n",
              "      gap: 12px;\n",
              "    }\n",
              "\n",
              "    .colab-df-convert {\n",
              "      background-color: #E8F0FE;\n",
              "      border: none;\n",
              "      border-radius: 50%;\n",
              "      cursor: pointer;\n",
              "      display: none;\n",
              "      fill: #1967D2;\n",
              "      height: 32px;\n",
              "      padding: 0 0 0 0;\n",
              "      width: 32px;\n",
              "    }\n",
              "\n",
              "    .colab-df-convert:hover {\n",
              "      background-color: #E2EBFA;\n",
              "      box-shadow: 0px 1px 2px rgba(60, 64, 67, 0.3), 0px 1px 3px 1px rgba(60, 64, 67, 0.15);\n",
              "      fill: #174EA6;\n",
              "    }\n",
              "\n",
              "    [theme=dark] .colab-df-convert {\n",
              "      background-color: #3B4455;\n",
              "      fill: #D2E3FC;\n",
              "    }\n",
              "\n",
              "    [theme=dark] .colab-df-convert:hover {\n",
              "      background-color: #434B5C;\n",
              "      box-shadow: 0px 1px 3px 1px rgba(0, 0, 0, 0.15);\n",
              "      filter: drop-shadow(0px 1px 2px rgba(0, 0, 0, 0.3));\n",
              "      fill: #FFFFFF;\n",
              "    }\n",
              "  </style>\n",
              "\n",
              "      <script>\n",
              "        const buttonEl =\n",
              "          document.querySelector('#df-d6087791-cbc9-4df1-829d-542e9312b7da button.colab-df-convert');\n",
              "        buttonEl.style.display =\n",
              "          google.colab.kernel.accessAllowed ? 'block' : 'none';\n",
              "\n",
              "        async function convertToInteractive(key) {\n",
              "          const element = document.querySelector('#df-d6087791-cbc9-4df1-829d-542e9312b7da');\n",
              "          const dataTable =\n",
              "            await google.colab.kernel.invokeFunction('convertToInteractive',\n",
              "                                                     [key], {});\n",
              "          if (!dataTable) return;\n",
              "\n",
              "          const docLinkHtml = 'Like what you see? Visit the ' +\n",
              "            '<a target=\"_blank\" href=https://colab.research.google.com/notebooks/data_table.ipynb>data table notebook</a>'\n",
              "            + ' to learn more about interactive tables.';\n",
              "          element.innerHTML = '';\n",
              "          dataTable['output_type'] = 'display_data';\n",
              "          await google.colab.output.renderOutput(dataTable, element);\n",
              "          const docLink = document.createElement('div');\n",
              "          docLink.innerHTML = docLinkHtml;\n",
              "          element.appendChild(docLink);\n",
              "        }\n",
              "      </script>\n",
              "    </div>\n",
              "  </div>\n",
              "  "
            ]
          },
          "metadata": {},
          "execution_count": 40
        }
      ]
    },
    {
      "cell_type": "markdown",
      "source": [
        "train 데이터에 있는 차종이면 그와 비슷하게 맞춰주려고 했는데, test 데이터에만 있는 차종입니다. 304번 차량과 411번 차량의 경우 어느정도 주행거리가 있어 주행거리에 따른 감가상각이 적용되겠지만 406번 차량의 경우는 주행거리마저 0으로 표시되어 있네요. 역시 2626년 차량이라 달린적이 없는 것 같습니다.\n",
        "\n",
        "304번과 411번 차량의 경우, 주행거리가 정상값이라면, year 변수에 큰 대륙에서 달리는 차량의 평균 주행거리로 계산하여 대입해주면 될 것 같습니다.\n",
        "\n",
        "406번 차량의 경우 주행거리 0이 정상이라면, year 변수에 최근 모델의 생산연도를 작성하면 어떨까 생각합니다.\n",
        "\n",
        "꽤나 깊은 고민이 필요한 값일 것 같습니다.\n",
        "\n",
        "읽어주셔서 감사합니다.\n"
      ],
      "metadata": {
        "id": "c8HGGRKohsS_"
      }
    }
  ]
}