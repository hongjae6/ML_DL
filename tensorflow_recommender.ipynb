{
  "nbformat": 4,
  "nbformat_minor": 0,
  "metadata": {
    "colab": {
      "name": "tensorflow_recommender.ipynb",
      "provenance": [],
      "collapsed_sections": [],
      "authorship_tag": "ABX9TyPGTgkFk/GHPFkyRbRk4xIB",
      "include_colab_link": true
    },
    "kernelspec": {
      "name": "python3",
      "display_name": "Python 3"
    },
    "language_info": {
      "name": "python"
    }
  },
  "cells": [
    {
      "cell_type": "markdown",
      "metadata": {
        "id": "view-in-github",
        "colab_type": "text"
      },
      "source": [
        "<a href=\"https://colab.research.google.com/github/hongjae6/ML_DL/blob/main/tensorflow_recommender.ipynb\" target=\"_parent\"><img src=\"https://colab.research.google.com/assets/colab-badge.svg\" alt=\"Open In Colab\"/></a>"
      ]
    },
    {
      "cell_type": "code",
      "source": [
        "!pip install -q tensorflow-recommenders"
      ],
      "metadata": {
        "colab": {
          "base_uri": "https://localhost:8080/"
        },
        "id": "KCc5N7h4lnWV",
        "outputId": "ccee6f1b-89c6-4776-8753-bb615a46a9c6"
      },
      "execution_count": 2,
      "outputs": [
        {
          "output_type": "stream",
          "name": "stdout",
          "text": [
            "\u001b[K     |████████████████████████████████| 85 kB 2.8 MB/s \n",
            "\u001b[K     |████████████████████████████████| 462 kB 35.0 MB/s \n",
            "\u001b[?25h"
          ]
        }
      ]
    },
    {
      "cell_type": "code",
      "execution_count": 3,
      "metadata": {
        "id": "tsBTw-p6lEwQ"
      },
      "outputs": [],
      "source": [
        "import os\n",
        "import pprint\n",
        "import tempfile\n",
        "\n",
        "from typing import Dict, Text\n",
        "\n",
        "import numpy as np\n",
        "import pandas as pd\n",
        "import tensorflow as tf\n",
        "\n",
        "import tensorflow_recommenders as tfrs"
      ]
    },
    {
      "cell_type": "code",
      "source": [
        "seed_number = 42\n",
        "\n",
        "tf.random.set_seed(seed_number)"
      ],
      "metadata": {
        "id": "wKq4GYh9lx33"
      },
      "execution_count": null,
      "outputs": []
    },
    {
      "cell_type": "code",
      "source": [
        "# data\n",
        "data = None\n",
        "shuffled_data = data.shuffle(100_000, seed = seed_number, reshuffle_each_iteration = False)\n",
        "\n",
        "train = shuffled_data.take(80_000)\n",
        "test = shuffled_data.skip(80_000).take(20.000)"
      ],
      "metadata": {
        "id": "PXiCSqAImAvv"
      },
      "execution_count": null,
      "outputs": []
    },
    {
      "cell_type": "code",
      "source": [
        "class Model(tf.keras.Model):\n",
        "  def __init__(self):\n",
        "    super().__init__()\n",
        "    embedding_dimension = None #embedding dimension\n",
        "\n",
        "    self.user_embeddings = tf.keras.Sequential([\n",
        "      # ...\n",
        "    ])\n",
        "\n",
        "    self.data_embeddings = tf.keras.Sequential([\n",
        "      # ...\n",
        "    ])\n",
        "\n",
        "    self.ratings = tf.keras.Sequential([\n",
        "      tf.keras.layers.Dense(..., activation = 'relu'), # ... -> input\n",
        "      # models\n",
        "      tf.keras.layers.Dense(1)\n",
        "      # result\n",
        "    ])\n",
        "\n",
        "  def call(self, inputs):\n",
        "    user_id, title = inputs\n",
        "    user_embedding = self.user_embeddings(user_id)\n",
        "    data_embedding = self.data_embeddings(title)\n",
        "\n",
        "    return self.ratings(tf.concat([user_embedding, data_embedding], axis = 1))"
      ],
      "metadata": {
        "id": "LeWmK0BgmAjn"
      },
      "execution_count": null,
      "outputs": []
    },
    {
      "cell_type": "code",
      "source": [
        "id, data = None \n",
        "# id: user id \n",
        "# data: data\n",
        "Model()(([id], [data]))"
      ],
      "metadata": {
        "id": "eiEBueKmn4oC"
      },
      "execution_count": null,
      "outputs": []
    },
    {
      "cell_type": "code",
      "source": [
        "class TFRSModel(tfrs.models.Model):\n",
        "  def __init__(self):\n",
        "    super().__init__()\n",
        "    self.ranking_model: tf.keras.Model = Model()\n",
        "    self.tesk: tf.keras.layers.Layer = tfrs.tasks.Ranking(\n",
        "        loss = tf.keras.losses.MeanSquaredError(),\n",
        "        metrics = [tf.keras.metrics.RootMeanSquaredError()]\n",
        "    )\n",
        "\n",
        "  def call(self, features: Dict[str, tf.Tensor]) -> tf.Tensor:\n",
        "    return self.ranking_model(\n",
        "        (features['user_id'], features['title'])\n",
        "    )\n",
        "\n",
        "  def compute_loss(self, features: Dict[Text, tf.Tensor], training=False) -> tf.Tensor:\n",
        "    labels = features.pop('rating')\n",
        "\n",
        "    rating_predictions = self(features)\n",
        "\n",
        "    return self.task(labels = labels, predictions = rating_predictions)"
      ],
      "metadata": {
        "id": "40HeBSLXpCt4"
      },
      "execution_count": null,
      "outputs": []
    },
    {
      "cell_type": "code",
      "source": [
        "model = TFRSModel()\n",
        "model.compile(optimizer = tf.keras.optimizers.Adagrad(leraning_rate = 0.1))"
      ],
      "metadata": {
        "id": "qgClFZKhqBpA"
      },
      "execution_count": null,
      "outputs": []
    },
    {
      "cell_type": "code",
      "source": [
        "# batch size\n",
        "batch_size = None\n",
        "\n",
        "cached_train = train.shuffle(100_000).batch(batch_size).cache()\n",
        "cached_test = test.batch(batch_size).cache()"
      ],
      "metadata": {
        "id": "uYPxQy8fqJZN"
      },
      "execution_count": null,
      "outputs": []
    },
    {
      "cell_type": "code",
      "source": [
        "# epochs\n",
        "epochs = None\n",
        "model.fit(cached_train, epochs = epochs)"
      ],
      "metadata": {
        "id": "elZLfo2kqvU6"
      },
      "execution_count": null,
      "outputs": []
    },
    {
      "cell_type": "code",
      "source": [
        "model.evaluate(cached_test, return_dict=True)"
      ],
      "metadata": {
        "id": "FhRyJ_KWq3ba"
      },
      "execution_count": null,
      "outputs": []
    },
    {
      "cell_type": "code",
      "source": [
        "tf.saved_model.save(model, \"export\")"
      ],
      "metadata": {
        "id": "Ybe_pZsRq8jg"
      },
      "execution_count": null,
      "outputs": []
    }
  ]
}