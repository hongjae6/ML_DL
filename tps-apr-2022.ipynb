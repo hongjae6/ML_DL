{
 "cells": [
  {
   "cell_type": "code",
   "execution_count": 1,
   "id": "4cfb5369",
   "metadata": {
    "_cell_guid": "b1076dfc-b9ad-4769-8c92-a6c4dae69d19",
    "_uuid": "8f2839f25d086af736a60e9eeb907d3b93b6e0e5",
    "execution": {
     "iopub.execute_input": "2022-04-14T06:40:45.817714Z",
     "iopub.status.busy": "2022-04-14T06:40:45.815902Z",
     "iopub.status.idle": "2022-04-14T06:40:45.827005Z",
     "shell.execute_reply": "2022-04-14T06:40:45.827606Z",
     "shell.execute_reply.started": "2022-04-14T05:49:24.177746Z"
    },
    "papermill": {
     "duration": 0.036831,
     "end_time": "2022-04-14T06:40:45.827910",
     "exception": false,
     "start_time": "2022-04-14T06:40:45.791079",
     "status": "completed"
    },
    "tags": []
   },
   "outputs": [],
   "source": [
    "import numpy as np # linear algebra\n",
    "import pandas as pd # data processing, CSV file I/O (e.g. pd.read_csv)\n",
    "\n",
    "from tqdm import tqdm"
   ]
  },
  {
   "cell_type": "code",
   "execution_count": 2,
   "id": "ac572f6a",
   "metadata": {
    "execution": {
     "iopub.execute_input": "2022-04-14T06:40:45.869528Z",
     "iopub.status.busy": "2022-04-14T06:40:45.868858Z",
     "iopub.status.idle": "2022-04-14T06:40:58.544410Z",
     "shell.execute_reply": "2022-04-14T06:40:58.543775Z",
     "shell.execute_reply.started": "2022-04-14T05:49:25.334818Z"
    },
    "papermill": {
     "duration": 12.697253,
     "end_time": "2022-04-14T06:40:58.544563",
     "exception": false,
     "start_time": "2022-04-14T06:40:45.847310",
     "status": "completed"
    },
    "tags": []
   },
   "outputs": [],
   "source": [
    "train = pd.read_csv('/kaggle/input/tabular-playground-series-apr-2022/train.csv')\n",
    "test = pd.read_csv('/kaggle/input/tabular-playground-series-apr-2022/test.csv')\n",
    "train_labels = pd.read_csv('/kaggle/input/tabular-playground-series-apr-2022/train_labels.csv')\n",
    "sample_submission = pd.read_csv('/kaggle/input/tabular-playground-series-apr-2022/sample_submission.csv')"
   ]
  },
  {
   "cell_type": "code",
   "execution_count": 3,
   "id": "5e2f5416",
   "metadata": {
    "_kg_hide-input": true,
    "execution": {
     "iopub.execute_input": "2022-04-14T06:40:58.586628Z",
     "iopub.status.busy": "2022-04-14T06:40:58.585933Z",
     "iopub.status.idle": "2022-04-14T06:40:58.602592Z",
     "shell.execute_reply": "2022-04-14T06:40:58.603081Z",
     "shell.execute_reply.started": "2022-04-14T05:49:41.752566Z"
    },
    "papermill": {
     "duration": 0.039279,
     "end_time": "2022-04-14T06:40:58.603260",
     "exception": false,
     "start_time": "2022-04-14T06:40:58.563981",
     "status": "completed"
    },
    "tags": []
   },
   "outputs": [
    {
     "data": {
      "text/html": [
       "<div>\n",
       "<style scoped>\n",
       "    .dataframe tbody tr th:only-of-type {\n",
       "        vertical-align: middle;\n",
       "    }\n",
       "\n",
       "    .dataframe tbody tr th {\n",
       "        vertical-align: top;\n",
       "    }\n",
       "\n",
       "    .dataframe thead th {\n",
       "        text-align: right;\n",
       "    }\n",
       "</style>\n",
       "<table border=\"1\" class=\"dataframe\">\n",
       "  <thead>\n",
       "    <tr style=\"text-align: right;\">\n",
       "      <th></th>\n",
       "      <th>sequence</th>\n",
       "      <th>state</th>\n",
       "    </tr>\n",
       "  </thead>\n",
       "  <tbody>\n",
       "    <tr>\n",
       "      <th>0</th>\n",
       "      <td>0</td>\n",
       "      <td>0</td>\n",
       "    </tr>\n",
       "    <tr>\n",
       "      <th>1</th>\n",
       "      <td>1</td>\n",
       "      <td>1</td>\n",
       "    </tr>\n",
       "    <tr>\n",
       "      <th>2</th>\n",
       "      <td>2</td>\n",
       "      <td>1</td>\n",
       "    </tr>\n",
       "    <tr>\n",
       "      <th>3</th>\n",
       "      <td>3</td>\n",
       "      <td>1</td>\n",
       "    </tr>\n",
       "    <tr>\n",
       "      <th>4</th>\n",
       "      <td>4</td>\n",
       "      <td>1</td>\n",
       "    </tr>\n",
       "  </tbody>\n",
       "</table>\n",
       "</div>"
      ],
      "text/plain": [
       "   sequence  state\n",
       "0         0      0\n",
       "1         1      1\n",
       "2         2      1\n",
       "3         3      1\n",
       "4         4      1"
      ]
     },
     "execution_count": 3,
     "metadata": {},
     "output_type": "execute_result"
    }
   ],
   "source": [
    "train_labels.head()"
   ]
  },
  {
   "cell_type": "code",
   "execution_count": 4,
   "id": "4c78e8a3",
   "metadata": {
    "execution": {
     "iopub.execute_input": "2022-04-14T06:40:58.646278Z",
     "iopub.status.busy": "2022-04-14T06:40:58.645619Z",
     "iopub.status.idle": "2022-04-14T06:40:58.665336Z",
     "shell.execute_reply": "2022-04-14T06:40:58.664680Z",
     "shell.execute_reply.started": "2022-04-14T05:49:42.517301Z"
    },
    "papermill": {
     "duration": 0.04255,
     "end_time": "2022-04-14T06:40:58.665476",
     "exception": false,
     "start_time": "2022-04-14T06:40:58.622926",
     "status": "completed"
    },
    "tags": []
   },
   "outputs": [
    {
     "data": {
      "text/html": [
       "<div>\n",
       "<style scoped>\n",
       "    .dataframe tbody tr th:only-of-type {\n",
       "        vertical-align: middle;\n",
       "    }\n",
       "\n",
       "    .dataframe tbody tr th {\n",
       "        vertical-align: top;\n",
       "    }\n",
       "\n",
       "    .dataframe thead th {\n",
       "        text-align: right;\n",
       "    }\n",
       "</style>\n",
       "<table border=\"1\" class=\"dataframe\">\n",
       "  <thead>\n",
       "    <tr style=\"text-align: right;\">\n",
       "      <th></th>\n",
       "      <th>sequence</th>\n",
       "      <th>subject</th>\n",
       "      <th>step</th>\n",
       "      <th>sensor_00</th>\n",
       "      <th>sensor_01</th>\n",
       "      <th>sensor_02</th>\n",
       "      <th>sensor_03</th>\n",
       "      <th>sensor_04</th>\n",
       "      <th>sensor_05</th>\n",
       "      <th>sensor_06</th>\n",
       "      <th>sensor_07</th>\n",
       "      <th>sensor_08</th>\n",
       "      <th>sensor_09</th>\n",
       "      <th>sensor_10</th>\n",
       "      <th>sensor_11</th>\n",
       "      <th>sensor_12</th>\n",
       "    </tr>\n",
       "  </thead>\n",
       "  <tbody>\n",
       "    <tr>\n",
       "      <th>0</th>\n",
       "      <td>0</td>\n",
       "      <td>47</td>\n",
       "      <td>0</td>\n",
       "      <td>-0.196291</td>\n",
       "      <td>0.112395</td>\n",
       "      <td>1.0</td>\n",
       "      <td>0.329204</td>\n",
       "      <td>-1.004660</td>\n",
       "      <td>-0.131638</td>\n",
       "      <td>-0.127505</td>\n",
       "      <td>0.368702</td>\n",
       "      <td>-0.1</td>\n",
       "      <td>-0.963873</td>\n",
       "      <td>-0.985069</td>\n",
       "      <td>0.531893</td>\n",
       "      <td>4.751492</td>\n",
       "    </tr>\n",
       "    <tr>\n",
       "      <th>1</th>\n",
       "      <td>0</td>\n",
       "      <td>47</td>\n",
       "      <td>1</td>\n",
       "      <td>-0.447450</td>\n",
       "      <td>0.134454</td>\n",
       "      <td>1.0</td>\n",
       "      <td>-0.658407</td>\n",
       "      <td>0.162495</td>\n",
       "      <td>0.340314</td>\n",
       "      <td>-0.209472</td>\n",
       "      <td>-0.867176</td>\n",
       "      <td>0.2</td>\n",
       "      <td>-0.301301</td>\n",
       "      <td>0.082733</td>\n",
       "      <td>-0.231481</td>\n",
       "      <td>0.454390</td>\n",
       "    </tr>\n",
       "    <tr>\n",
       "      <th>2</th>\n",
       "      <td>0</td>\n",
       "      <td>47</td>\n",
       "      <td>2</td>\n",
       "      <td>0.326893</td>\n",
       "      <td>-0.694328</td>\n",
       "      <td>1.0</td>\n",
       "      <td>0.330088</td>\n",
       "      <td>0.473678</td>\n",
       "      <td>1.280479</td>\n",
       "      <td>-0.094718</td>\n",
       "      <td>0.535878</td>\n",
       "      <td>1.4</td>\n",
       "      <td>1.002168</td>\n",
       "      <td>0.449221</td>\n",
       "      <td>-0.586420</td>\n",
       "      <td>-4.736147</td>\n",
       "    </tr>\n",
       "    <tr>\n",
       "      <th>3</th>\n",
       "      <td>0</td>\n",
       "      <td>47</td>\n",
       "      <td>3</td>\n",
       "      <td>0.523184</td>\n",
       "      <td>0.751050</td>\n",
       "      <td>1.0</td>\n",
       "      <td>0.976991</td>\n",
       "      <td>-0.563287</td>\n",
       "      <td>-0.720269</td>\n",
       "      <td>0.793260</td>\n",
       "      <td>0.951145</td>\n",
       "      <td>-0.3</td>\n",
       "      <td>-0.995665</td>\n",
       "      <td>-0.434290</td>\n",
       "      <td>1.344650</td>\n",
       "      <td>0.429241</td>\n",
       "    </tr>\n",
       "    <tr>\n",
       "      <th>4</th>\n",
       "      <td>0</td>\n",
       "      <td>47</td>\n",
       "      <td>4</td>\n",
       "      <td>0.272025</td>\n",
       "      <td>1.074580</td>\n",
       "      <td>1.0</td>\n",
       "      <td>-0.136283</td>\n",
       "      <td>0.398579</td>\n",
       "      <td>0.044877</td>\n",
       "      <td>0.560109</td>\n",
       "      <td>-0.541985</td>\n",
       "      <td>-0.9</td>\n",
       "      <td>1.055636</td>\n",
       "      <td>0.812631</td>\n",
       "      <td>0.123457</td>\n",
       "      <td>-0.223359</td>\n",
       "    </tr>\n",
       "  </tbody>\n",
       "</table>\n",
       "</div>"
      ],
      "text/plain": [
       "   sequence  subject  step  sensor_00  sensor_01  sensor_02  sensor_03  \\\n",
       "0         0       47     0  -0.196291   0.112395        1.0   0.329204   \n",
       "1         0       47     1  -0.447450   0.134454        1.0  -0.658407   \n",
       "2         0       47     2   0.326893  -0.694328        1.0   0.330088   \n",
       "3         0       47     3   0.523184   0.751050        1.0   0.976991   \n",
       "4         0       47     4   0.272025   1.074580        1.0  -0.136283   \n",
       "\n",
       "   sensor_04  sensor_05  sensor_06  sensor_07  sensor_08  sensor_09  \\\n",
       "0  -1.004660  -0.131638  -0.127505   0.368702       -0.1  -0.963873   \n",
       "1   0.162495   0.340314  -0.209472  -0.867176        0.2  -0.301301   \n",
       "2   0.473678   1.280479  -0.094718   0.535878        1.4   1.002168   \n",
       "3  -0.563287  -0.720269   0.793260   0.951145       -0.3  -0.995665   \n",
       "4   0.398579   0.044877   0.560109  -0.541985       -0.9   1.055636   \n",
       "\n",
       "   sensor_10  sensor_11  sensor_12  \n",
       "0  -0.985069   0.531893   4.751492  \n",
       "1   0.082733  -0.231481   0.454390  \n",
       "2   0.449221  -0.586420  -4.736147  \n",
       "3  -0.434290   1.344650   0.429241  \n",
       "4   0.812631   0.123457  -0.223359  "
      ]
     },
     "execution_count": 4,
     "metadata": {},
     "output_type": "execute_result"
    }
   ],
   "source": [
    "train.head(5)"
   ]
  },
  {
   "cell_type": "code",
   "execution_count": 5,
   "id": "3406a4ee",
   "metadata": {
    "execution": {
     "iopub.execute_input": "2022-04-14T06:40:58.710339Z",
     "iopub.status.busy": "2022-04-14T06:40:58.709622Z",
     "iopub.status.idle": "2022-04-14T06:41:26.320397Z",
     "shell.execute_reply": "2022-04-14T06:41:26.320920Z",
     "shell.execute_reply.started": "2022-04-14T05:53:52.577969Z"
    },
    "papermill": {
     "duration": 27.635274,
     "end_time": "2022-04-14T06:41:26.321098",
     "exception": false,
     "start_time": "2022-04-14T06:40:58.685824",
     "status": "completed"
    },
    "tags": []
   },
   "outputs": [
    {
     "name": "stderr",
     "output_type": "stream",
     "text": [
      "100%|██████████| 25967/25967 [00:18<00:00, 1399.29it/s]\n",
      "100%|██████████| 12217/12217 [00:08<00:00, 1368.37it/s]\n"
     ]
    }
   ],
   "source": [
    "def df_flatten(dataframe):\n",
    "    dataframe_drop = dataframe.drop(['sequence', 'subject', 'step'], axis = 1)\n",
    "    \n",
    "    df = dataframe_drop[0:60]\n",
    "    lst = [ dataframe.subject[0]]\n",
    "    \n",
    "    for i in df.columns:\n",
    "        temp_lst = df[i].to_list()\n",
    "        lst += temp_lst\n",
    "        \n",
    "    main_df = [lst]\n",
    "    \n",
    "    for idx in tqdm(range(60, len(dataframe), 60)): # len(dataframe)\n",
    "        index_start = idx\n",
    "        index_end = idx+60\n",
    "        \n",
    "        df = dataframe_drop[index_start:index_end]\n",
    "        lst = [dataframe.subject[idx]]\n",
    "        \n",
    "        for i in df.columns:\n",
    "            temp = df[i].to_list()\n",
    "            lst += temp\n",
    "            \n",
    "        main_df += [lst]\n",
    "    \n",
    "    return main_df\n",
    "    \n",
    "train_df = df_flatten(train)\n",
    "test_df = df_flatten(test)"
   ]
  },
  {
   "cell_type": "code",
   "execution_count": 6,
   "id": "c40602c1",
   "metadata": {
    "execution": {
     "iopub.execute_input": "2022-04-14T06:41:26.980796Z",
     "iopub.status.busy": "2022-04-14T06:41:26.907938Z",
     "iopub.status.idle": "2022-04-14T06:41:38.232844Z",
     "shell.execute_reply": "2022-04-14T06:41:38.232119Z",
     "shell.execute_reply.started": "2022-04-14T05:54:20.491118Z"
    },
    "papermill": {
     "duration": 11.789512,
     "end_time": "2022-04-14T06:41:38.233002",
     "exception": false,
     "start_time": "2022-04-14T06:41:26.443490",
     "status": "completed"
    },
    "tags": []
   },
   "outputs": [],
   "source": [
    "train_X = pd.DataFrame(train_df)\n",
    "test_X = pd.DataFrame(test_df)\n",
    "\n",
    "train_y = train_labels.state"
   ]
  },
  {
   "cell_type": "code",
   "execution_count": 7,
   "id": "aa330f48",
   "metadata": {
    "execution": {
     "iopub.execute_input": "2022-04-14T06:41:38.478236Z",
     "iopub.status.busy": "2022-04-14T06:41:38.477482Z",
     "iopub.status.idle": "2022-04-14T06:41:39.742860Z",
     "shell.execute_reply": "2022-04-14T06:41:39.742130Z",
     "shell.execute_reply.started": "2022-04-14T05:54:32.436272Z"
    },
    "papermill": {
     "duration": 1.390126,
     "end_time": "2022-04-14T06:41:39.743018",
     "exception": false,
     "start_time": "2022-04-14T06:41:38.352892",
     "status": "completed"
    },
    "tags": []
   },
   "outputs": [],
   "source": [
    "from sklearn.ensemble import GradientBoostingClassifier\n",
    "from sklearn.preprocessing import Normalizer"
   ]
  },
  {
   "cell_type": "code",
   "execution_count": 8,
   "id": "37394680",
   "metadata": {
    "execution": {
     "iopub.execute_input": "2022-04-14T06:41:39.985232Z",
     "iopub.status.busy": "2022-04-14T06:41:39.984146Z",
     "iopub.status.idle": "2022-04-14T06:41:39.986547Z",
     "shell.execute_reply": "2022-04-14T06:41:39.987078Z",
     "shell.execute_reply.started": "2022-04-14T05:54:32.443823Z"
    },
    "papermill": {
     "duration": 0.126141,
     "end_time": "2022-04-14T06:41:39.987280",
     "exception": false,
     "start_time": "2022-04-14T06:41:39.861139",
     "status": "completed"
    },
    "tags": []
   },
   "outputs": [],
   "source": [
    "scaler = Normalizer()"
   ]
  },
  {
   "cell_type": "code",
   "execution_count": 9,
   "id": "9b09589c",
   "metadata": {
    "execution": {
     "iopub.execute_input": "2022-04-14T06:41:40.238719Z",
     "iopub.status.busy": "2022-04-14T06:41:40.237336Z",
     "iopub.status.idle": "2022-04-14T06:41:40.335011Z",
     "shell.execute_reply": "2022-04-14T06:41:40.335525Z",
     "shell.execute_reply.started": "2022-04-14T05:51:08.184896Z"
    },
    "papermill": {
     "duration": 0.230753,
     "end_time": "2022-04-14T06:41:40.335719",
     "exception": false,
     "start_time": "2022-04-14T06:41:40.104966",
     "status": "completed"
    },
    "tags": []
   },
   "outputs": [],
   "source": [
    "train_X_scaled = train_X.drop([0], axis = 1)\n",
    "test_X_scaled = test_X.drop([0], axis = 1)"
   ]
  },
  {
   "cell_type": "code",
   "execution_count": 10,
   "id": "8b856fd1",
   "metadata": {
    "execution": {
     "iopub.execute_input": "2022-04-14T06:41:40.583445Z",
     "iopub.status.busy": "2022-04-14T06:41:40.571919Z",
     "iopub.status.idle": "2022-04-14T06:41:40.829801Z",
     "shell.execute_reply": "2022-04-14T06:41:40.829160Z",
     "shell.execute_reply.started": "2022-04-14T05:51:10.505666Z"
    },
    "papermill": {
     "duration": 0.377718,
     "end_time": "2022-04-14T06:41:40.829967",
     "exception": false,
     "start_time": "2022-04-14T06:41:40.452249",
     "status": "completed"
    },
    "tags": []
   },
   "outputs": [],
   "source": [
    "train_X_scaled = scaler.fit_transform(train_X_scaled)\n",
    "test_X_scaled = scaler.transform(test_X_scaled)"
   ]
  },
  {
   "cell_type": "code",
   "execution_count": 11,
   "id": "2ccc901f",
   "metadata": {
    "execution": {
     "iopub.execute_input": "2022-04-14T06:41:41.078498Z",
     "iopub.status.busy": "2022-04-14T06:41:41.077027Z",
     "iopub.status.idle": "2022-04-14T06:41:41.188663Z",
     "shell.execute_reply": "2022-04-14T06:41:41.189330Z",
     "shell.execute_reply.started": "2022-04-14T05:55:15.046172Z"
    },
    "papermill": {
     "duration": 0.2366,
     "end_time": "2022-04-14T06:41:41.189529",
     "exception": false,
     "start_time": "2022-04-14T06:41:40.952929",
     "status": "completed"
    },
    "tags": []
   },
   "outputs": [],
   "source": [
    "train_X_ = pd.concat([train_X[0], pd.DataFrame(train_X_scaled)], axis = 1)\n",
    "test_X_ = pd.concat([test_X[0], pd.DataFrame(test_X_scaled)], axis = 1)"
   ]
  },
  {
   "cell_type": "code",
   "execution_count": 12,
   "id": "aa48b21c",
   "metadata": {
    "execution": {
     "iopub.execute_input": "2022-04-14T06:41:41.446365Z",
     "iopub.status.busy": "2022-04-14T06:41:41.445327Z",
     "iopub.status.idle": "2022-04-14T06:41:41.447309Z",
     "shell.execute_reply": "2022-04-14T06:41:41.447801Z",
     "shell.execute_reply.started": "2022-04-14T05:57:04.210349Z"
    },
    "papermill": {
     "duration": 0.133893,
     "end_time": "2022-04-14T06:41:41.447967",
     "exception": false,
     "start_time": "2022-04-14T06:41:41.314074",
     "status": "completed"
    },
    "tags": []
   },
   "outputs": [],
   "source": [
    "model = GradientBoostingClassifier(verbose = True)"
   ]
  },
  {
   "cell_type": "code",
   "execution_count": 13,
   "id": "058ff0fa",
   "metadata": {
    "execution": {
     "iopub.execute_input": "2022-04-14T06:41:41.692851Z",
     "iopub.status.busy": "2022-04-14T06:41:41.691871Z",
     "iopub.status.idle": "2022-04-14T06:54:01.847476Z",
     "shell.execute_reply": "2022-04-14T06:54:01.846539Z",
     "shell.execute_reply.started": "2022-04-14T05:57:07.804959Z"
    },
    "papermill": {
     "duration": 740.280409,
     "end_time": "2022-04-14T06:54:01.847684",
     "exception": false,
     "start_time": "2022-04-14T06:41:41.567275",
     "status": "completed"
    },
    "tags": []
   },
   "outputs": [
    {
     "name": "stdout",
     "output_type": "stream",
     "text": [
      "      Iter       Train Loss   Remaining Time \n",
      "         1           1.3786           12.05m\n",
      "         2           1.3717           11.91m\n",
      "         3           1.3656           11.77m\n",
      "         4           1.3604           11.65m\n",
      "         5           1.3559           11.52m\n",
      "         6           1.3518           11.43m\n",
      "         7           1.3481           11.32m\n",
      "         8           1.3428           11.18m\n",
      "         9           1.3394           11.08m\n",
      "        10           1.3361           10.95m\n",
      "        20           1.3085            9.74m\n",
      "        30           1.2882            8.53m\n",
      "        40           1.2713            7.32m\n",
      "        50           1.2573            6.13m\n",
      "        60           1.2438            4.91m\n",
      "        70           1.2321            3.69m\n",
      "        80           1.2210            2.46m\n",
      "        90           1.2114            1.23m\n",
      "       100           1.1999            0.00s\n"
     ]
    },
    {
     "data": {
      "text/plain": [
       "GradientBoostingClassifier(verbose=True)"
      ]
     },
     "execution_count": 13,
     "metadata": {},
     "output_type": "execute_result"
    }
   ],
   "source": [
    "model.fit(train_X_, train_y)"
   ]
  },
  {
   "cell_type": "code",
   "execution_count": 14,
   "id": "152914a3",
   "metadata": {
    "execution": {
     "iopub.execute_input": "2022-04-14T06:54:02.113704Z",
     "iopub.status.busy": "2022-04-14T06:54:02.111761Z",
     "iopub.status.idle": "2022-04-14T06:54:02.246424Z",
     "shell.execute_reply": "2022-04-14T06:54:02.247025Z",
     "shell.execute_reply.started": "2022-04-14T06:09:40.293212Z"
    },
    "papermill": {
     "duration": 0.272986,
     "end_time": "2022-04-14T06:54:02.247231",
     "exception": false,
     "start_time": "2022-04-14T06:54:01.974245",
     "status": "completed"
    },
    "tags": []
   },
   "outputs": [],
   "source": [
    "pred = model.predict(test_X_)"
   ]
  },
  {
   "cell_type": "code",
   "execution_count": 15,
   "id": "7eeb9540",
   "metadata": {
    "execution": {
     "iopub.execute_input": "2022-04-14T06:54:02.508077Z",
     "iopub.status.busy": "2022-04-14T06:54:02.507352Z",
     "iopub.status.idle": "2022-04-14T06:54:02.510155Z",
     "shell.execute_reply": "2022-04-14T06:54:02.510756Z",
     "shell.execute_reply.started": "2022-04-14T06:19:00.269555Z"
    },
    "papermill": {
     "duration": 0.135583,
     "end_time": "2022-04-14T06:54:02.510936",
     "exception": false,
     "start_time": "2022-04-14T06:54:02.375353",
     "status": "completed"
    },
    "tags": []
   },
   "outputs": [
    {
     "data": {
      "text/plain": [
       "0        684\n",
       "1        935\n",
       "2        924\n",
       "3        769\n",
       "4        764\n",
       "        ... \n",
       "12213    980\n",
       "12214    915\n",
       "12215    872\n",
       "12216    835\n",
       "12217    773\n",
       "Name: 0, Length: 12218, dtype: int64"
      ]
     },
     "execution_count": 15,
     "metadata": {},
     "output_type": "execute_result"
    }
   ],
   "source": [
    "test_X.iloc[:,0]"
   ]
  },
  {
   "cell_type": "code",
   "execution_count": 16,
   "id": "f8ad078f",
   "metadata": {
    "execution": {
     "iopub.execute_input": "2022-04-14T06:54:02.770528Z",
     "iopub.status.busy": "2022-04-14T06:54:02.769757Z",
     "iopub.status.idle": "2022-04-14T06:54:02.773349Z",
     "shell.execute_reply": "2022-04-14T06:54:02.773893Z",
     "shell.execute_reply.started": "2022-04-14T06:20:51.942956Z"
    },
    "papermill": {
     "duration": 0.135063,
     "end_time": "2022-04-14T06:54:02.774077",
     "exception": false,
     "start_time": "2022-04-14T06:54:02.639014",
     "status": "completed"
    },
    "tags": []
   },
   "outputs": [],
   "source": [
    "submission = sample_submission\n",
    "submission.state = pred"
   ]
  },
  {
   "cell_type": "code",
   "execution_count": 17,
   "id": "9bfd974c",
   "metadata": {
    "execution": {
     "iopub.execute_input": "2022-04-14T06:54:03.031188Z",
     "iopub.status.busy": "2022-04-14T06:54:03.030485Z",
     "iopub.status.idle": "2022-04-14T06:54:03.038622Z",
     "shell.execute_reply": "2022-04-14T06:54:03.037978Z",
     "shell.execute_reply.started": "2022-04-14T06:20:56.106133Z"
    },
    "papermill": {
     "duration": 0.139117,
     "end_time": "2022-04-14T06:54:03.038762",
     "exception": false,
     "start_time": "2022-04-14T06:54:02.899645",
     "status": "completed"
    },
    "tags": []
   },
   "outputs": [
    {
     "data": {
      "text/html": [
       "<div>\n",
       "<style scoped>\n",
       "    .dataframe tbody tr th:only-of-type {\n",
       "        vertical-align: middle;\n",
       "    }\n",
       "\n",
       "    .dataframe tbody tr th {\n",
       "        vertical-align: top;\n",
       "    }\n",
       "\n",
       "    .dataframe thead th {\n",
       "        text-align: right;\n",
       "    }\n",
       "</style>\n",
       "<table border=\"1\" class=\"dataframe\">\n",
       "  <thead>\n",
       "    <tr style=\"text-align: right;\">\n",
       "      <th></th>\n",
       "      <th>sequence</th>\n",
       "      <th>state</th>\n",
       "    </tr>\n",
       "  </thead>\n",
       "  <tbody>\n",
       "    <tr>\n",
       "      <th>0</th>\n",
       "      <td>25968</td>\n",
       "      <td>1</td>\n",
       "    </tr>\n",
       "    <tr>\n",
       "      <th>1</th>\n",
       "      <td>25969</td>\n",
       "      <td>0</td>\n",
       "    </tr>\n",
       "    <tr>\n",
       "      <th>2</th>\n",
       "      <td>25970</td>\n",
       "      <td>0</td>\n",
       "    </tr>\n",
       "    <tr>\n",
       "      <th>3</th>\n",
       "      <td>25971</td>\n",
       "      <td>0</td>\n",
       "    </tr>\n",
       "    <tr>\n",
       "      <th>4</th>\n",
       "      <td>25972</td>\n",
       "      <td>1</td>\n",
       "    </tr>\n",
       "    <tr>\n",
       "      <th>...</th>\n",
       "      <td>...</td>\n",
       "      <td>...</td>\n",
       "    </tr>\n",
       "    <tr>\n",
       "      <th>12213</th>\n",
       "      <td>38181</td>\n",
       "      <td>0</td>\n",
       "    </tr>\n",
       "    <tr>\n",
       "      <th>12214</th>\n",
       "      <td>38182</td>\n",
       "      <td>1</td>\n",
       "    </tr>\n",
       "    <tr>\n",
       "      <th>12215</th>\n",
       "      <td>38183</td>\n",
       "      <td>0</td>\n",
       "    </tr>\n",
       "    <tr>\n",
       "      <th>12216</th>\n",
       "      <td>38184</td>\n",
       "      <td>0</td>\n",
       "    </tr>\n",
       "    <tr>\n",
       "      <th>12217</th>\n",
       "      <td>38185</td>\n",
       "      <td>1</td>\n",
       "    </tr>\n",
       "  </tbody>\n",
       "</table>\n",
       "<p>12218 rows × 2 columns</p>\n",
       "</div>"
      ],
      "text/plain": [
       "       sequence  state\n",
       "0         25968      1\n",
       "1         25969      0\n",
       "2         25970      0\n",
       "3         25971      0\n",
       "4         25972      1\n",
       "...         ...    ...\n",
       "12213     38181      0\n",
       "12214     38182      1\n",
       "12215     38183      0\n",
       "12216     38184      0\n",
       "12217     38185      1\n",
       "\n",
       "[12218 rows x 2 columns]"
      ]
     },
     "execution_count": 17,
     "metadata": {},
     "output_type": "execute_result"
    }
   ],
   "source": [
    "submission"
   ]
  },
  {
   "cell_type": "code",
   "execution_count": 18,
   "id": "b2335ef4",
   "metadata": {
    "execution": {
     "iopub.execute_input": "2022-04-14T06:54:03.293086Z",
     "iopub.status.busy": "2022-04-14T06:54:03.292414Z",
     "iopub.status.idle": "2022-04-14T06:54:03.788086Z",
     "shell.execute_reply": "2022-04-14T06:54:03.788988Z",
     "shell.execute_reply.started": "2022-04-14T06:22:17.272919Z"
    },
    "papermill": {
     "duration": 0.624267,
     "end_time": "2022-04-14T06:54:03.789236",
     "exception": false,
     "start_time": "2022-04-14T06:54:03.164969",
     "status": "completed"
    },
    "tags": []
   },
   "outputs": [],
   "source": [
    "submission.to_csv('submission.csv', index = False)"
   ]
  }
 ],
 "metadata": {
  "kernelspec": {
   "display_name": "Python 3",
   "language": "python",
   "name": "python3"
  },
  "language_info": {
   "codemirror_mode": {
    "name": "ipython",
    "version": 3
   },
   "file_extension": ".py",
   "mimetype": "text/x-python",
   "name": "python",
   "nbconvert_exporter": "python",
   "pygments_lexer": "ipython3",
   "version": "3.7.12"
  },
  "papermill": {
   "default_parameters": {},
   "duration": 809.941823,
   "end_time": "2022-04-14T06:54:05.444768",
   "environment_variables": {},
   "exception": null,
   "input_path": "__notebook__.ipynb",
   "output_path": "__notebook__.ipynb",
   "parameters": {},
   "start_time": "2022-04-14T06:40:35.502945",
   "version": "2.3.3"
  }
 },
 "nbformat": 4,
 "nbformat_minor": 5
}
