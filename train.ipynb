{
  "nbformat": 4,
  "nbformat_minor": 0,
  "metadata": {
    "colab": {
      "name": "train.ipynb",
      "provenance": [],
      "collapsed_sections": [],
      "authorship_tag": "ABX9TyMIuPGfLE5lnLioT8gX/nlF",
      "include_colab_link": true
    },
    "kernelspec": {
      "name": "python3",
      "display_name": "Python 3"
    },
    "language_info": {
      "name": "python"
    }
  },
  "cells": [
    {
      "cell_type": "markdown",
      "metadata": {
        "id": "view-in-github",
        "colab_type": "text"
      },
      "source": [
        "<a href=\"https://colab.research.google.com/github/hongjae6/ML_DL/blob/main/train.ipynb\" target=\"_parent\"><img src=\"https://colab.research.google.com/assets/colab-badge.svg\" alt=\"Open In Colab\"/></a>"
      ]
    },
    {
      "cell_type": "code",
      "execution_count": null,
      "metadata": {
        "id": "Ifwm1ESNA-TM"
      },
      "outputs": [],
      "source": [
        "class Train:\n",
        "  def __init__(self):\n",
        "    pass\n",
        "\n",
        "    # 평균 속도\n",
        "    # 평균 가속도\n",
        "    # 평균 정지속도\n",
        "\n",
        "    # 최대 속도\n",
        "    # 최대 가속도\n",
        "    # 최대 정지속도\n",
        "\n",
        "\n",
        "class Map:\n",
        "  def __init__(self):\n",
        "    pass\n",
        "\n",
        "    # 역간 절대 거리\n",
        "    # 기점 0부터 시작하여 종점까지 역간거리\n",
        "\n",
        "    # 배차 횟수\n",
        "    # RH 여부\n",
        "\n",
        "\n",
        "\n"
      ]
    },
    {
      "cell_type": "code",
      "source": [
        "# main"
      ],
      "metadata": {
        "id": "qvGWcL_zBWow"
      },
      "execution_count": null,
      "outputs": []
    }
  ]
}